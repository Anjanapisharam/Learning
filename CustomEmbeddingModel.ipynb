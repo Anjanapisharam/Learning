{
  "nbformat": 4,
  "nbformat_minor": 0,
  "metadata": {
    "colab": {
      "provenance": []
    },
    "kernelspec": {
      "name": "python3",
      "display_name": "Python 3"
    },
    "language_info": {
      "name": "python"
    }
  },
  "cells": [
    {
      "cell_type": "code",
      "execution_count": 2,
      "metadata": {
        "id": "A3d1OemhwSzW"
      },
      "outputs": [],
      "source": [
        "# Import Libraries\n",
        "import pandas as pd\n",
        "import numpy as np\n",
        "import os\n",
        "import gensim\n",
        "import nltk\n",
        "from nltk import sent_tokenize\n",
        "from gensim.utils import simple_preprocess\n",
        "import itertools\n"
      ]
    },
    {
      "cell_type": "code",
      "source": [
        "# Download the data set from\n",
        "# https://www.kaggle.com/datasets/khulasasndh/game-of-thrones-books?resource=download"
      ],
      "metadata": {
        "id": "oFHTkGhPwbMw"
      },
      "execution_count": 3,
      "outputs": []
    },
    {
      "cell_type": "code",
      "source": [
        "os.listdir(\"/content/data\")"
      ],
      "metadata": {
        "colab": {
          "base_uri": "https://localhost:8080/"
        },
        "id": "oidS0mKLwbgt",
        "outputId": "129815f9-3966-4fe2-da2e-322eb863a7c5"
      },
      "execution_count": 4,
      "outputs": [
        {
          "output_type": "execute_result",
          "data": {
            "text/plain": [
              "['001ssb.txt', '004ssb.txt', '005ssb.txt', '002ssb.txt', '003ssb.txt']"
            ]
          },
          "metadata": {},
          "execution_count": 4
        }
      ]
    },
    {
      "cell_type": "code",
      "source": [
        "nltk.download(\"all\")"
      ],
      "metadata": {
        "id": "majmRdqexUH2"
      },
      "execution_count": null,
      "outputs": []
    },
    {
      "cell_type": "code",
      "source": [],
      "metadata": {
        "id": "gl8JrnEoxlfh"
      },
      "execution_count": 6,
      "outputs": []
    },
    {
      "cell_type": "code",
      "source": [
        "# Appending Data into a single list\n",
        "ls = []\n",
        "for file in os.listdir(\"/content/data/\"):\n",
        "  print(file)\n",
        "  f = open(\"/content/data/\" + file, encoding=\"unicode_escape\")\n",
        "  corpus = f.read()\n",
        "  sentences = sent_tokenize(corpus)\n",
        "  processed_sent = [simple_preprocess(i) for i in sentences]\n",
        "  ls.append(processed_sent)"
      ],
      "metadata": {
        "colab": {
          "base_uri": "https://localhost:8080/"
        },
        "id": "BIIQReeXx4Kw",
        "outputId": "dc720e4a-4686-4461-d07d-0a327ebbabf7"
      },
      "execution_count": 7,
      "outputs": [
        {
          "output_type": "stream",
          "name": "stdout",
          "text": [
            "001ssb.txt\n",
            "004ssb.txt\n",
            "005ssb.txt\n",
            "002ssb.txt\n",
            "003ssb.txt\n"
          ]
        }
      ]
    },
    {
      "cell_type": "code",
      "source": [],
      "metadata": {
        "id": "giS_FldvzYR9"
      },
      "execution_count": 8,
      "outputs": []
    },
    {
      "cell_type": "code",
      "source": [
        "complete_story = list(itertools.chain(*ls))"
      ],
      "metadata": {
        "id": "p_NFZv6Vz7QJ"
      },
      "execution_count": 9,
      "outputs": []
    },
    {
      "cell_type": "code",
      "source": [
        "len(complete_story)"
      ],
      "metadata": {
        "colab": {
          "base_uri": "https://localhost:8080/"
        },
        "id": "rw40mY_61psq",
        "outputId": "e3b24789-8400-42e7-ffe1-eb5dd7294ae1"
      },
      "execution_count": 10,
      "outputs": [
        {
          "output_type": "execute_result",
          "data": {
            "text/plain": [
              "145020"
            ]
          },
          "metadata": {},
          "execution_count": 10
        }
      ]
    },
    {
      "cell_type": "code",
      "source": [
        "model = gensim.models.Word2Vec(window=10, min_count=5, vector_size=150)\n"
      ],
      "metadata": {
        "id": "v8B94CO71spl"
      },
      "execution_count": 12,
      "outputs": []
    },
    {
      "cell_type": "code",
      "source": [
        "model.build_vocab(complete_story)"
      ],
      "metadata": {
        "id": "C9STjCL5BYD_"
      },
      "execution_count": 15,
      "outputs": []
    },
    {
      "cell_type": "code",
      "source": [
        "# Total number of sentences\n",
        "model.corpus_count"
      ],
      "metadata": {
        "colab": {
          "base_uri": "https://localhost:8080/"
        },
        "id": "hEnZ7G9tBhY6",
        "outputId": "391b3271-230a-4d57-fa25-2f9386ba3809"
      },
      "execution_count": 16,
      "outputs": [
        {
          "output_type": "execute_result",
          "data": {
            "text/plain": [
              "145020"
            ]
          },
          "metadata": {},
          "execution_count": 16
        }
      ]
    },
    {
      "cell_type": "code",
      "source": [
        "# Total number of words\n",
        "model.corpus_total_words"
      ],
      "metadata": {
        "colab": {
          "base_uri": "https://localhost:8080/"
        },
        "id": "9JZ_pU0vCYWv",
        "outputId": "60a9cd4b-e789-4da7-81a5-45874af63d51"
      },
      "execution_count": 17,
      "outputs": [
        {
          "output_type": "execute_result",
          "data": {
            "text/plain": [
              "1725638"
            ]
          },
          "metadata": {},
          "execution_count": 17
        }
      ]
    },
    {
      "cell_type": "code",
      "source": [
        "# Model Training\n",
        "model.train(complete_story, total_examples =model.corpus_count, epochs=5)"
      ],
      "metadata": {
        "colab": {
          "base_uri": "https://localhost:8080/"
        },
        "id": "erBfBXVSCkJo",
        "outputId": "476d92ad-b077-4ad9-e9a0-6456da9d98e6"
      },
      "execution_count": 18,
      "outputs": [
        {
          "output_type": "execute_result",
          "data": {
            "text/plain": [
              "(6481726, 8628190)"
            ]
          },
          "metadata": {},
          "execution_count": 18
        }
      ]
    },
    {
      "cell_type": "code",
      "source": [
        "# Vector for a word, say for example: \"King\"\n",
        "model.wv[\"king\"]"
      ],
      "metadata": {
        "colab": {
          "base_uri": "https://localhost:8080/"
        },
        "id": "RiRwugnZQbRg",
        "outputId": "57f362ce-1e98-4464-8b04-c839a05b6323"
      },
      "execution_count": 20,
      "outputs": [
        {
          "output_type": "execute_result",
          "data": {
            "text/plain": [
              "array([ 1.3106287e+00,  3.1381755e+00, -5.7397455e-01,  7.1758795e-01,\n",
              "       -7.5017130e-01, -1.9451336e+00, -3.8772634e-01, -1.3240814e+00,\n",
              "       -1.2066334e-01,  6.5825492e-01, -2.8941852e-01, -7.3162347e-02,\n",
              "       -4.0683004e-01, -1.2361552e+00, -3.7670376e+00,  1.6607195e+00,\n",
              "        1.5863153e+00,  2.5746384e+00, -1.9089932e+00,  1.2175533e+00,\n",
              "       -3.1809521e+00,  2.4958861e+00, -8.8660091e-01, -1.1168407e+00,\n",
              "        1.2353822e+00,  1.0060754e+00,  8.8354313e-01, -3.3197992e+00,\n",
              "       -7.8650081e-01, -2.0317009e-01,  1.6143212e+00,  6.4539796e-01,\n",
              "       -1.9752520e-01, -1.6645670e+00,  8.2082343e-01, -4.2723730e-01,\n",
              "        7.6190287e-01, -5.2721941e-01,  2.6124749e+00,  1.2489467e+00,\n",
              "        2.1795642e+00,  1.4089648e-01, -6.5693915e-01,  5.5869341e-01,\n",
              "       -9.7269975e-02,  3.1149057e-01,  6.8966663e-01,  9.5656615e-01,\n",
              "        6.5776318e-01, -2.4244046e+00, -2.7918520e+00, -9.2992586e-01,\n",
              "        2.5865774e+00, -9.4470076e-02, -4.2614323e-01, -2.8686243e-01,\n",
              "        6.1186135e-01,  3.9252239e-01,  1.6038154e+00,  1.5510398e+00,\n",
              "        1.3935128e+00, -1.1662790e+00,  1.4494304e-01,  2.4429936e+00,\n",
              "       -1.6613969e+00, -1.1881950e+00,  1.1031357e+00,  9.1768789e-01,\n",
              "        5.3972584e-01, -1.5590245e-01, -5.2910608e-01,  1.5002837e+00,\n",
              "       -3.0653647e-03, -1.6954906e+00,  1.0349027e+00,  1.0452095e+00,\n",
              "       -1.6767176e+00, -1.4040751e+00, -1.5253030e+00,  1.0992438e+00,\n",
              "        4.3687400e-01,  2.1306932e+00, -1.5136909e+00, -8.9942670e-01,\n",
              "       -1.7466437e+00,  1.9644809e+00, -7.2511375e-01,  8.1105047e-01,\n",
              "        7.5127316e-01, -1.8962688e+00, -2.1606984e+00,  1.3617318e+00,\n",
              "        1.6350178e+00, -6.2755823e-01,  1.2998524e+00, -1.5754678e+00,\n",
              "       -1.3795667e+00, -5.1000196e-01,  1.6248229e+00, -4.8034894e-01,\n",
              "        4.5553267e-01, -3.8135083e+00, -1.2100977e-01,  2.5781114e+00,\n",
              "       -4.3103591e-01,  1.4191947e+00, -1.5565699e-01,  1.6924301e-01,\n",
              "       -1.3104186e+00,  5.5129260e-02, -9.0048099e-01,  1.1224518e+00,\n",
              "       -2.1127929e-01, -2.3689227e+00, -2.1725693e+00, -3.7296079e-02,\n",
              "       -1.0160645e+00, -7.5584966e-01,  8.0838814e-02, -1.3649056e+00,\n",
              "       -4.2758375e-01,  7.8270829e-01,  7.7046603e-01, -1.0325146e+00,\n",
              "        7.2767931e-01,  2.7574849e+00, -2.9151371e-01,  3.4722126e+00,\n",
              "       -6.7664379e-01, -3.0489700e+00, -1.0776139e+00,  1.4904729e+00,\n",
              "       -6.8649244e-01, -1.4128066e+00, -1.1688833e+00,  3.3812335e-01,\n",
              "        9.3905926e-02,  6.9420874e-01,  6.9955528e-01, -1.1043122e+00,\n",
              "        1.2244353e+00, -2.1730256e+00, -2.7256320e+00, -2.0466490e-01,\n",
              "       -2.4086716e+00,  9.7489744e-01,  1.6581452e+00,  5.8830476e-01,\n",
              "       -1.7348352e-01,  1.5272430e+00], dtype=float32)"
            ]
          },
          "metadata": {},
          "execution_count": 20
        }
      ]
    },
    {
      "cell_type": "code",
      "source": [
        "len(model.wv[\"king\"])"
      ],
      "metadata": {
        "colab": {
          "base_uri": "https://localhost:8080/"
        },
        "id": "Q1IgBRD6QlsZ",
        "outputId": "1aaba49e-0599-43ca-d61b-9b81ae26e21d"
      },
      "execution_count": 21,
      "outputs": [
        {
          "output_type": "execute_result",
          "data": {
            "text/plain": [
              "150"
            ]
          },
          "metadata": {},
          "execution_count": 21
        }
      ]
    },
    {
      "cell_type": "code",
      "source": [
        "# Vector for a non vocabulary word, say for example: \"anjana\"\n",
        "\n",
        "model.wv[\"anjana\"]"
      ],
      "metadata": {
        "colab": {
          "base_uri": "https://localhost:8080/",
          "height": 287
        },
        "id": "PT9Lt6RGRaR5",
        "outputId": "ad0a3eea-cf9c-4711-d10e-e15882926413"
      },
      "execution_count": 23,
      "outputs": [
        {
          "output_type": "error",
          "ename": "KeyError",
          "evalue": "\"Key 'abcdc' not present\"",
          "traceback": [
            "\u001b[0;31m---------------------------------------------------------------------------\u001b[0m",
            "\u001b[0;31mKeyError\u001b[0m                                  Traceback (most recent call last)",
            "\u001b[0;32m<ipython-input-23-27ce59121a2f>\u001b[0m in \u001b[0;36m<cell line: 1>\u001b[0;34m()\u001b[0m\n\u001b[0;32m----> 1\u001b[0;31m \u001b[0mmodel\u001b[0m\u001b[0;34m.\u001b[0m\u001b[0mwv\u001b[0m\u001b[0;34m[\u001b[0m\u001b[0;34m\"abcdc\"\u001b[0m\u001b[0;34m]\u001b[0m\u001b[0;34m\u001b[0m\u001b[0;34m\u001b[0m\u001b[0m\n\u001b[0m",
            "\u001b[0;32m/usr/local/lib/python3.10/dist-packages/gensim/models/keyedvectors.py\u001b[0m in \u001b[0;36m__getitem__\u001b[0;34m(self, key_or_keys)\u001b[0m\n\u001b[1;32m    401\u001b[0m         \"\"\"\n\u001b[1;32m    402\u001b[0m         \u001b[0;32mif\u001b[0m \u001b[0misinstance\u001b[0m\u001b[0;34m(\u001b[0m\u001b[0mkey_or_keys\u001b[0m\u001b[0;34m,\u001b[0m \u001b[0m_KEY_TYPES\u001b[0m\u001b[0;34m)\u001b[0m\u001b[0;34m:\u001b[0m\u001b[0;34m\u001b[0m\u001b[0;34m\u001b[0m\u001b[0m\n\u001b[0;32m--> 403\u001b[0;31m             \u001b[0;32mreturn\u001b[0m \u001b[0mself\u001b[0m\u001b[0;34m.\u001b[0m\u001b[0mget_vector\u001b[0m\u001b[0;34m(\u001b[0m\u001b[0mkey_or_keys\u001b[0m\u001b[0;34m)\u001b[0m\u001b[0;34m\u001b[0m\u001b[0;34m\u001b[0m\u001b[0m\n\u001b[0m\u001b[1;32m    404\u001b[0m \u001b[0;34m\u001b[0m\u001b[0m\n\u001b[1;32m    405\u001b[0m         \u001b[0;32mreturn\u001b[0m \u001b[0mvstack\u001b[0m\u001b[0;34m(\u001b[0m\u001b[0;34m[\u001b[0m\u001b[0mself\u001b[0m\u001b[0;34m.\u001b[0m\u001b[0mget_vector\u001b[0m\u001b[0;34m(\u001b[0m\u001b[0mkey\u001b[0m\u001b[0;34m)\u001b[0m \u001b[0;32mfor\u001b[0m \u001b[0mkey\u001b[0m \u001b[0;32min\u001b[0m \u001b[0mkey_or_keys\u001b[0m\u001b[0;34m]\u001b[0m\u001b[0;34m)\u001b[0m\u001b[0;34m\u001b[0m\u001b[0;34m\u001b[0m\u001b[0m\n",
            "\u001b[0;32m/usr/local/lib/python3.10/dist-packages/gensim/models/keyedvectors.py\u001b[0m in \u001b[0;36mget_vector\u001b[0;34m(self, key, norm)\u001b[0m\n\u001b[1;32m    444\u001b[0m \u001b[0;34m\u001b[0m\u001b[0m\n\u001b[1;32m    445\u001b[0m         \"\"\"\n\u001b[0;32m--> 446\u001b[0;31m         \u001b[0mindex\u001b[0m \u001b[0;34m=\u001b[0m \u001b[0mself\u001b[0m\u001b[0;34m.\u001b[0m\u001b[0mget_index\u001b[0m\u001b[0;34m(\u001b[0m\u001b[0mkey\u001b[0m\u001b[0;34m)\u001b[0m\u001b[0;34m\u001b[0m\u001b[0;34m\u001b[0m\u001b[0m\n\u001b[0m\u001b[1;32m    447\u001b[0m         \u001b[0;32mif\u001b[0m \u001b[0mnorm\u001b[0m\u001b[0;34m:\u001b[0m\u001b[0;34m\u001b[0m\u001b[0;34m\u001b[0m\u001b[0m\n\u001b[1;32m    448\u001b[0m             \u001b[0mself\u001b[0m\u001b[0;34m.\u001b[0m\u001b[0mfill_norms\u001b[0m\u001b[0;34m(\u001b[0m\u001b[0;34m)\u001b[0m\u001b[0;34m\u001b[0m\u001b[0;34m\u001b[0m\u001b[0m\n",
            "\u001b[0;32m/usr/local/lib/python3.10/dist-packages/gensim/models/keyedvectors.py\u001b[0m in \u001b[0;36mget_index\u001b[0;34m(self, key, default)\u001b[0m\n\u001b[1;32m    418\u001b[0m             \u001b[0;32mreturn\u001b[0m \u001b[0mdefault\u001b[0m\u001b[0;34m\u001b[0m\u001b[0;34m\u001b[0m\u001b[0m\n\u001b[1;32m    419\u001b[0m         \u001b[0;32melse\u001b[0m\u001b[0;34m:\u001b[0m\u001b[0;34m\u001b[0m\u001b[0;34m\u001b[0m\u001b[0m\n\u001b[0;32m--> 420\u001b[0;31m             \u001b[0;32mraise\u001b[0m \u001b[0mKeyError\u001b[0m\u001b[0;34m(\u001b[0m\u001b[0;34mf\"Key '{key}' not present\"\u001b[0m\u001b[0;34m)\u001b[0m\u001b[0;34m\u001b[0m\u001b[0;34m\u001b[0m\u001b[0m\n\u001b[0m\u001b[1;32m    421\u001b[0m \u001b[0;34m\u001b[0m\u001b[0m\n\u001b[1;32m    422\u001b[0m     \u001b[0;32mdef\u001b[0m \u001b[0mget_vector\u001b[0m\u001b[0;34m(\u001b[0m\u001b[0mself\u001b[0m\u001b[0;34m,\u001b[0m \u001b[0mkey\u001b[0m\u001b[0;34m,\u001b[0m \u001b[0mnorm\u001b[0m\u001b[0;34m=\u001b[0m\u001b[0;32mFalse\u001b[0m\u001b[0;34m)\u001b[0m\u001b[0;34m:\u001b[0m\u001b[0;34m\u001b[0m\u001b[0;34m\u001b[0m\u001b[0m\n",
            "\u001b[0;31mKeyError\u001b[0m: \"Key 'abcdc' not present\""
          ]
        }
      ]
    },
    {
      "cell_type": "code",
      "source": [
        "#Get most similar word for \"King\"\n",
        "model.wv.most_similar(\"king\")"
      ],
      "metadata": {
        "colab": {
          "base_uri": "https://localhost:8080/"
        },
        "id": "xH-eqIAXQxHB",
        "outputId": "91f9b040-a035-428f-8ced-5d6bcc77507c"
      },
      "execution_count": 22,
      "outputs": [
        {
          "output_type": "execute_result",
          "data": {
            "text/plain": [
              "[('baratheon', 0.6598556041717529),\n",
              " ('throne', 0.6511567831039429),\n",
              " ('prince', 0.6505590081214905),\n",
              " ('realm', 0.6503951549530029),\n",
              " ('victory', 0.6088259220123291),\n",
              " ('usurper', 0.6074551939964294),\n",
              " ('council', 0.5823007225990295),\n",
              " ('tourney', 0.5798454284667969),\n",
              " ('conqueror', 0.578585684299469),\n",
              " ('rebellion', 0.5724166631698608)]"
            ]
          },
          "metadata": {},
          "execution_count": 22
        }
      ]
    },
    {
      "cell_type": "code",
      "source": [
        "#Get the word doesn't match / odd one in a list based on similarity\n",
        "model.wv.doesnt_match([\"doctor\",\"king\",\"wealth\",\"palace\"])"
      ],
      "metadata": {
        "colab": {
          "base_uri": "https://localhost:8080/",
          "height": 53
        },
        "id": "KDK2aGWlQ8Ec",
        "outputId": "993740fe-2f9b-4ace-ab48-2938c943b54c"
      },
      "execution_count": 29,
      "outputs": [
        {
          "output_type": "stream",
          "name": "stderr",
          "text": [
            "WARNING:gensim.models.keyedvectors:vectors for words {'doctor'} are not present in the model, ignoring these words\n"
          ]
        },
        {
          "output_type": "execute_result",
          "data": {
            "text/plain": [
              "'king'"
            ],
            "application/vnd.google.colaboratory.intrinsic+json": {
              "type": "string"
            }
          },
          "metadata": {},
          "execution_count": 29
        }
      ]
    },
    {
      "cell_type": "code",
      "source": [
        "model.wv.get_normed_vectors().shape"
      ],
      "metadata": {
        "colab": {
          "base_uri": "https://localhost:8080/"
        },
        "id": "Q0VLCrR2RryR",
        "outputId": "4b8fc6b6-ef8a-4a0d-ff1d-3d5076cf2ded"
      },
      "execution_count": 32,
      "outputs": [
        {
          "output_type": "execute_result",
          "data": {
            "text/plain": [
              "(11760, 150)"
            ]
          },
          "metadata": {},
          "execution_count": 32
        }
      ]
    },
    {
      "cell_type": "code",
      "source": [
        "len(model.wv.index_to_key)"
      ],
      "metadata": {
        "colab": {
          "base_uri": "https://localhost:8080/"
        },
        "id": "dEHltG0oS6B8",
        "outputId": "fae8bd7d-8b92-4f1a-eb92-17805468a8a3"
      },
      "execution_count": 34,
      "outputs": [
        {
          "output_type": "execute_result",
          "data": {
            "text/plain": [
              "11760"
            ]
          },
          "metadata": {},
          "execution_count": 34
        }
      ]
    },
    {
      "cell_type": "code",
      "source": [
        "#Save the model\n",
        "model.save(\"word2vec.model\")"
      ],
      "metadata": {
        "id": "bdtS_28YTVxK"
      },
      "execution_count": 35,
      "outputs": []
    },
    {
      "cell_type": "code",
      "source": [],
      "metadata": {
        "id": "9Lny-hsSTzoy"
      },
      "execution_count": null,
      "outputs": []
    }
  ]
}