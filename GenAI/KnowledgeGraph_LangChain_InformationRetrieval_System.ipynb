{
 "cells": [
  {
   "cell_type": "markdown",
   "metadata": {
    "id": "GLCVZ7-bOFAx"
   },
   "source": [
    "### Knowledge Graph With Langchain\n"
   ]
  },
  {
   "cell_type": "markdown",
   "metadata": {
    "id": "Rbn8GOju54yg"
   },
   "source": [
    "### Problem:\n",
    "Build an Information Retreival system from a Given Text using LLM\n",
    "### Solution pipeline:\n",
    "\n",
    "Step 1. Convert Text into Documents.\n",
    "  \n",
    "  Suggestion: Document class from the langchain_core.documents module.\n",
    "\n",
    "  The Document class is typically used to represent a piece of text or content, often as part of a larger framework for language processing or information retrieval. In the context of the LangChain library, the Document class is used to encapsulate text data along with its metadata, making it easier to manipulate, analyze, and transform the text for various language processing tasks.\n",
    "\n",
    "Step 2. Convert Documents into Graph Documents.\n",
    "\n",
    "  Suggestion: LLMGraphTransformer class from the langchain_experimental.graph_transformers module.\n",
    "\n",
    "  Loading graph documents into a Neo4j database for querying.\n",
    "\n",
    "\n",
    "Step 3. Load Graph Documents into Neo4j.\n",
    "\n",
    "Step 4. Retrieve information from Neo4j without writing Cypher Queries explicitly.\n",
    "\n",
    "  Suggestion: GraphCypherQAChain class from langchain.chains module.\n",
    "\n",
    "  The primary function of the GraphCypherQAChain is to translate natural language questions into Cypher queries. This allows users to interact with graph databases using conversational language without needing to know Cypher syntax.\n",
    "\n"
   ]
  },
  {
   "cell_type": "code",
   "execution_count": 1,
   "metadata": {
    "colab": {
     "base_uri": "https://localhost:8080/"
    },
    "id": "plPbr6XqbeAW",
    "outputId": "82628d0f-9b7e-4a9e-8b2d-07b241c16242"
   },
   "outputs": [
    {
     "name": "stdout",
     "output_type": "stream",
     "text": [
      "\u001b[2K     \u001b[90m━━━━━━━━━━━━━━━━━━━━━━━━━━━━━━━━━━━━━━━━\u001b[0m \u001b[32m50.4/50.4 kB\u001b[0m \u001b[31m1.2 MB/s\u001b[0m eta \u001b[36m0:00:00\u001b[0m\n",
      "\u001b[2K   \u001b[90m━━━━━━━━━━━━━━━━━━━━━━━━━━━━━━━━━━━━━━━━\u001b[0m \u001b[32m990.6/990.6 kB\u001b[0m \u001b[31m16.7 MB/s\u001b[0m eta \u001b[36m0:00:00\u001b[0m\n",
      "\u001b[2K   \u001b[90m━━━━━━━━━━━━━━━━━━━━━━━━━━━━━━━━━━━━━━━━\u001b[0m \u001b[32m2.3/2.3 MB\u001b[0m \u001b[31m36.0 MB/s\u001b[0m eta \u001b[36m0:00:00\u001b[0m\n",
      "\u001b[2K   \u001b[90m━━━━━━━━━━━━━━━━━━━━━━━━━━━━━━━━━━━━━━━━\u001b[0m \u001b[32m293.6/293.6 kB\u001b[0m \u001b[31m17.7 MB/s\u001b[0m eta \u001b[36m0:00:00\u001b[0m\n",
      "\u001b[2K   \u001b[90m━━━━━━━━━━━━━━━━━━━━━━━━━━━━━━━━━━━━━━━━\u001b[0m \u001b[32m103.5/103.5 kB\u001b[0m \u001b[31m6.6 MB/s\u001b[0m eta \u001b[36m0:00:00\u001b[0m\n",
      "\u001b[2K   \u001b[90m━━━━━━━━━━━━━━━━━━━━━━━━━━━━━━━━━━━━━━━━\u001b[0m \u001b[32m379.9/379.9 kB\u001b[0m \u001b[31m15.3 MB/s\u001b[0m eta \u001b[36m0:00:00\u001b[0m\n",
      "\u001b[2K   \u001b[90m━━━━━━━━━━━━━━━━━━━━━━━━━━━━━━━━━━━━━━━━\u001b[0m \u001b[32m140.1/140.1 kB\u001b[0m \u001b[31m9.9 MB/s\u001b[0m eta \u001b[36m0:00:00\u001b[0m\n",
      "\u001b[2K   \u001b[90m━━━━━━━━━━━━━━━━━━━━━━━━━━━━━━━━━━━━━━━━\u001b[0m \u001b[32m75.6/75.6 kB\u001b[0m \u001b[31m5.3 MB/s\u001b[0m eta \u001b[36m0:00:00\u001b[0m\n",
      "\u001b[2K   \u001b[90m━━━━━━━━━━━━━━━━━━━━━━━━━━━━━━━━━━━━━━━━\u001b[0m \u001b[32m77.9/77.9 kB\u001b[0m \u001b[31m5.3 MB/s\u001b[0m eta \u001b[36m0:00:00\u001b[0m\n",
      "\u001b[2K   \u001b[90m━━━━━━━━━━━━━━━━━━━━━━━━━━━━━━━━━━━━━━━━\u001b[0m \u001b[32m49.2/49.2 kB\u001b[0m \u001b[31m2.9 MB/s\u001b[0m eta \u001b[36m0:00:00\u001b[0m\n",
      "\u001b[2K   \u001b[90m━━━━━━━━━━━━━━━━━━━━━━━━━━━━━━━━━━━━━━━━\u001b[0m \u001b[32m141.1/141.1 kB\u001b[0m \u001b[31m8.9 MB/s\u001b[0m eta \u001b[36m0:00:00\u001b[0m\n",
      "\u001b[2K   \u001b[90m━━━━━━━━━━━━━━━━━━━━━━━━━━━━━━━━━━━━━━━━\u001b[0m \u001b[32m58.3/58.3 kB\u001b[0m \u001b[31m4.6 MB/s\u001b[0m eta \u001b[36m0:00:00\u001b[0m\n",
      "\u001b[?25hRequirement already satisfied: langchain-community in /usr/local/lib/python3.10/dist-packages (0.2.11)\n",
      "Requirement already satisfied: langchain-core in /usr/local/lib/python3.10/dist-packages (0.2.28)\n",
      "Requirement already satisfied: PyYAML>=5.3 in /usr/local/lib/python3.10/dist-packages (from langchain-community) (6.0.1)\n",
      "Requirement already satisfied: SQLAlchemy<3,>=1.4 in /usr/local/lib/python3.10/dist-packages (from langchain-community) (2.0.31)\n",
      "Requirement already satisfied: aiohttp<4.0.0,>=3.8.3 in /usr/local/lib/python3.10/dist-packages (from langchain-community) (3.10.0)\n",
      "Requirement already satisfied: dataclasses-json<0.7,>=0.5.7 in /usr/local/lib/python3.10/dist-packages (from langchain-community) (0.6.7)\n",
      "Requirement already satisfied: langchain<0.3.0,>=0.2.12 in /usr/local/lib/python3.10/dist-packages (from langchain-community) (0.2.12)\n",
      "Requirement already satisfied: langsmith<0.2.0,>=0.1.0 in /usr/local/lib/python3.10/dist-packages (from langchain-community) (0.1.97)\n",
      "Requirement already satisfied: numpy<2,>=1 in /usr/local/lib/python3.10/dist-packages (from langchain-community) (1.26.4)\n",
      "Requirement already satisfied: requests<3,>=2 in /usr/local/lib/python3.10/dist-packages (from langchain-community) (2.31.0)\n",
      "Requirement already satisfied: tenacity!=8.4.0,<9.0.0,>=8.1.0 in /usr/local/lib/python3.10/dist-packages (from langchain-community) (8.5.0)\n",
      "Requirement already satisfied: jsonpatch<2.0,>=1.33 in /usr/local/lib/python3.10/dist-packages (from langchain-core) (1.33)\n",
      "Requirement already satisfied: packaging<25,>=23.2 in /usr/local/lib/python3.10/dist-packages (from langchain-core) (24.1)\n",
      "Requirement already satisfied: pydantic<3,>=1 in /usr/local/lib/python3.10/dist-packages (from langchain-core) (2.8.2)\n",
      "Requirement already satisfied: typing-extensions>=4.7 in /usr/local/lib/python3.10/dist-packages (from langchain-core) (4.12.2)\n",
      "Requirement already satisfied: aiohappyeyeballs>=2.3.0 in /usr/local/lib/python3.10/dist-packages (from aiohttp<4.0.0,>=3.8.3->langchain-community) (2.3.4)\n",
      "Requirement already satisfied: aiosignal>=1.1.2 in /usr/local/lib/python3.10/dist-packages (from aiohttp<4.0.0,>=3.8.3->langchain-community) (1.3.1)\n",
      "Requirement already satisfied: attrs>=17.3.0 in /usr/local/lib/python3.10/dist-packages (from aiohttp<4.0.0,>=3.8.3->langchain-community) (23.2.0)\n",
      "Requirement already satisfied: frozenlist>=1.1.1 in /usr/local/lib/python3.10/dist-packages (from aiohttp<4.0.0,>=3.8.3->langchain-community) (1.4.1)\n",
      "Requirement already satisfied: multidict<7.0,>=4.5 in /usr/local/lib/python3.10/dist-packages (from aiohttp<4.0.0,>=3.8.3->langchain-community) (6.0.5)\n",
      "Requirement already satisfied: yarl<2.0,>=1.0 in /usr/local/lib/python3.10/dist-packages (from aiohttp<4.0.0,>=3.8.3->langchain-community) (1.9.4)\n",
      "Requirement already satisfied: async-timeout<5.0,>=4.0 in /usr/local/lib/python3.10/dist-packages (from aiohttp<4.0.0,>=3.8.3->langchain-community) (4.0.3)\n",
      "Requirement already satisfied: marshmallow<4.0.0,>=3.18.0 in /usr/local/lib/python3.10/dist-packages (from dataclasses-json<0.7,>=0.5.7->langchain-community) (3.21.3)\n",
      "Requirement already satisfied: typing-inspect<1,>=0.4.0 in /usr/local/lib/python3.10/dist-packages (from dataclasses-json<0.7,>=0.5.7->langchain-community) (0.9.0)\n",
      "Requirement already satisfied: jsonpointer>=1.9 in /usr/local/lib/python3.10/dist-packages (from jsonpatch<2.0,>=1.33->langchain-core) (3.0.0)\n",
      "Requirement already satisfied: langchain-text-splitters<0.3.0,>=0.2.0 in /usr/local/lib/python3.10/dist-packages (from langchain<0.3.0,>=0.2.12->langchain-community) (0.2.2)\n",
      "Requirement already satisfied: orjson<4.0.0,>=3.9.14 in /usr/local/lib/python3.10/dist-packages (from langsmith<0.2.0,>=0.1.0->langchain-community) (3.10.6)\n",
      "Requirement already satisfied: annotated-types>=0.4.0 in /usr/local/lib/python3.10/dist-packages (from pydantic<3,>=1->langchain-core) (0.7.0)\n",
      "Requirement already satisfied: pydantic-core==2.20.1 in /usr/local/lib/python3.10/dist-packages (from pydantic<3,>=1->langchain-core) (2.20.1)\n",
      "Requirement already satisfied: charset-normalizer<4,>=2 in /usr/local/lib/python3.10/dist-packages (from requests<3,>=2->langchain-community) (3.3.2)\n",
      "Requirement already satisfied: idna<4,>=2.5 in /usr/local/lib/python3.10/dist-packages (from requests<3,>=2->langchain-community) (3.7)\n",
      "Requirement already satisfied: urllib3<3,>=1.21.1 in /usr/local/lib/python3.10/dist-packages (from requests<3,>=2->langchain-community) (2.0.7)\n",
      "Requirement already satisfied: certifi>=2017.4.17 in /usr/local/lib/python3.10/dist-packages (from requests<3,>=2->langchain-community) (2024.7.4)\n",
      "Requirement already satisfied: greenlet!=0.4.17 in /usr/local/lib/python3.10/dist-packages (from SQLAlchemy<3,>=1.4->langchain-community) (3.0.3)\n",
      "Requirement already satisfied: mypy-extensions>=0.3.0 in /usr/local/lib/python3.10/dist-packages (from typing-inspect<1,>=0.4.0->dataclasses-json<0.7,>=0.5.7->langchain-community) (1.0.0)\n",
      "\u001b[2K   \u001b[90m━━━━━━━━━━━━━━━━━━━━━━━━━━━━━━━━━━━━━━━━\u001b[0m \u001b[32m204.3/204.3 kB\u001b[0m \u001b[31m2.7 MB/s\u001b[0m eta \u001b[36m0:00:00\u001b[0m\n",
      "\u001b[?25h"
     ]
    }
   ],
   "source": [
    "## Install Libraries required.\n",
    "!pip install --upgrade --quiet langchain langchain-community langchain-groq neo4j\n",
    "!pip install langchain-community langchain-core\n",
    "!pip install --upgrade --quiet langchain_experimental"
   ]
  },
  {
   "cell_type": "code",
   "execution_count": 2,
   "metadata": {
    "id": "5dw41c7p7vck"
   },
   "outputs": [],
   "source": [
    "##Load Libraries required.\n",
    "# from langchain.docstore.document import Document\n",
    "from langchain_community.graphs import Neo4jGraph\n",
    "from langchain.chains import GraphCypherQAChain\n",
    "# from langchain.chains.question_answering import load_qa_chain\n",
    "from langchain_groq import ChatGroq\n",
    "from langchain_core.documents import Document\n",
    "from langchain_experimental.graph_transformers import LLMGraphTransformer\n",
    "from neo4j import GraphDatabase\n",
    "import os\n"
   ]
  },
  {
   "cell_type": "code",
   "execution_count": 3,
   "metadata": {
    "id": "Prf6Uwx49XMF"
   },
   "outputs": [],
   "source": [
    "##Graph db Configurations\n",
    "NEO4J_URI=\"neo4j+s://0edd137b.databases.neo4j.io\"\n",
    "NEO4J_USERNAME=\"neo4j\"\n",
    "NEO4J_PASSWORD=\"*****\"\n"
   ]
  },
  {
   "cell_type": "code",
   "execution_count": 4,
   "metadata": {
    "id": "tV4Mb0zB9Yh9"
   },
   "outputs": [],
   "source": [
    "os.environ[\"NEO4J_URI\"] = NEO4J_URI\n",
    "os.environ[\"NEO4J_USERNAME\"] = NEO4J_USERNAME\n",
    "os.environ[\"NEO4J_PASSWORD\"] = NEO4J_PASSWORD\n",
    "groq_api_key = \"*****\""
   ]
  },
  {
   "cell_type": "code",
   "execution_count": 5,
   "metadata": {
    "colab": {
     "base_uri": "https://localhost:8080/"
    },
    "id": "o2oQiNu29hlc",
    "outputId": "af5d20a8-0836-4715-e240-a531e1e0c9ff"
   },
   "outputs": [
    {
     "data": {
      "text/plain": [
       "ChatGroq(client=<groq.resources.chat.completions.Completions object at 0x78e9077b5f00>, async_client=<groq.resources.chat.completions.AsyncCompletions object at 0x78e9077b5240>, model_name='Gemma2-9b-It', groq_api_key=SecretStr('**********'))"
      ]
     },
     "execution_count": 5,
     "metadata": {},
     "output_type": "execute_result"
    }
   ],
   "source": [
    "#Using Groq to get LLM models.\n",
    "llm = ChatGroq(groq_api_key=groq_api_key, model_name=\"Gemma2-9b-It\")\n",
    "llm"
   ]
  },
  {
   "cell_type": "code",
   "execution_count": 6,
   "metadata": {
    "id": "Rt8CSVWP-H-_"
   },
   "outputs": [],
   "source": [
    "# Sample text\n",
    "text = \"\"\"\n",
    "Avul Pakir Jainulabdeen Abdul Kalam BR was an Indian aerospace scientist and statesman who served as the 11th president of India from 2002 to 2007.\n",
    "Born and raised in a Muslim family in Rameswaram, Tamil Nadu, he studied physics and aerospace engineering.\n",
    "He spent the next four decades as a scientist and science administrator, mainly at the Defence Research and Development Organisation (DRDO) and Indian Space Research Organisation (ISRO) and was intimately involved in India's civilian space programme and military missile development efforts.\n",
    "He thus came to be known as the Missile Man of India for his work on the development of ballistic missile and launch vehicle technology.\n",
    "He also played a pivotal organisational, technical, and political role in India's Pokhran-II nuclear tests in 1998, the first since the original nuclear test by India in 1974.\n",
    "\n",
    "Kalam was elected as the 11th president of India in 2002 with the support of both the ruling Bharatiya Janata Party and the then-opposition Indian National Congress. Widely referred to as the \"People's President\",[6] he returned to his civilian life of education, writing and public service after a single term. He was a recipient of several prestigious awards, including the Bharat Ratna, India's highest civilian honour.\n",
    "\"\"\""
   ]
  },
  {
   "cell_type": "code",
   "execution_count": 7,
   "metadata": {
    "colab": {
     "base_uri": "https://localhost:8080/"
    },
    "id": "IAlImphL88Rl",
    "outputId": "2f5b77b4-53c1-453a-8b9f-c451441c07e4"
   },
   "outputs": [
    {
     "data": {
      "text/plain": [
       "[GraphDocument(nodes=[Node(id='Avul Pakir Jainulabdeen Abdul Kalam Br', type='Person'), Node(id='Defence Research And Development Organisation (Drdo)', type='Organization'), Node(id='Indian Space Research Organisation (Isro)', type='Organization'), Node(id='Bharatiya Janata Party', type='Organization'), Node(id='Indian National Congress', type='Organization'), Node(id='Rameswaram', type='Place'), Node(id='Tamil Nadu', type='Place'), Node(id='India', type='Country'), Node(id='Pokhran-Ii', type='Event')], relationships=[Relationship(source=Node(id='Avul Pakir Jainulabdeen Abdul Kalam Br', type='Person'), target=Node(id='Rameswaram', type='Place'), type='BORN_IN'), Relationship(source=Node(id='Avul Pakir Jainulabdeen Abdul Kalam Br', type='Person'), target=Node(id='Tamil Nadu', type='Place'), type='RAISED_IN'), Relationship(source=Node(id='Avul Pakir Jainulabdeen Abdul Kalam Br', type='Person'), target=Node(id='Defence Research And Development Organisation (Drdo)', type='Organization'), type='WORKED_AT'), Relationship(source=Node(id='Avul Pakir Jainulabdeen Abdul Kalam Br', type='Person'), target=Node(id='Indian Space Research Organisation (Isro)', type='Organization'), type='WORKED_AT'), Relationship(source=Node(id='Avul Pakir Jainulabdeen Abdul Kalam Br', type='Person'), target=Node(id='Pokhran-Ii', type='Event'), type='PARTICIPATED_IN'), Relationship(source=Node(id='Avul Pakir Jainulabdeen Abdul Kalam Br', type='Person'), target=Node(id='India', type='Country'), type='PRESIDENT_OF'), Relationship(source=Node(id='Avul Pakir Jainulabdeen Abdul Kalam Br', type='Person'), target=Node(id='Bharatiya Janata Party', type='Organization'), type='ELECTED_BY'), Relationship(source=Node(id='Avul Pakir Jainulabdeen Abdul Kalam Br', type='Person'), target=Node(id='Indian National Congress', type='Organization'), type='SUPPORTED_BY')], source=Document(page_content='\\nAvul Pakir Jainulabdeen Abdul Kalam BR was an Indian aerospace scientist and statesman who served as the 11th president of India from 2002 to 2007. \\nBorn and raised in a Muslim family in Rameswaram, Tamil Nadu, he studied physics and aerospace engineering. \\nHe spent the next four decades as a scientist and science administrator, mainly at the Defence Research and Development Organisation (DRDO) and Indian Space Research Organisation (ISRO) and was intimately involved in India\\'s civilian space programme and military missile development efforts.\\nHe thus came to be known as the Missile Man of India for his work on the development of ballistic missile and launch vehicle technology.\\nHe also played a pivotal organisational, technical, and political role in India\\'s Pokhran-II nuclear tests in 1998, the first since the original nuclear test by India in 1974.\\n\\nKalam was elected as the 11th president of India in 2002 with the support of both the ruling Bharatiya Janata Party and the then-opposition Indian National Congress. Widely referred to as the \"People\\'s President\",[6] he returned to his civilian life of education, writing and public service after a single term. He was a recipient of several prestigious awards, including the Bharat Ratna, India\\'s highest civilian honour.\\n'))]"
      ]
     },
     "execution_count": 7,
     "metadata": {},
     "output_type": "execute_result"
    }
   ],
   "source": [
    "## Step 1. Convert Text into Documents.\n",
    "documents = [Document(page_content=text)]\n",
    "\n",
    "## Step 2. Convert Documents into Graph Documents.\n",
    "llm_transformer = LLMGraphTransformer(llm=llm)\n",
    "graph_documents = llm_transformer.convert_to_graph_documents(documents)\n",
    "graph_documents"
   ]
  },
  {
   "cell_type": "code",
   "execution_count": 9,
   "metadata": {
    "id": "JcAFy2EgFMUt"
   },
   "outputs": [],
   "source": [
    "def convert_graph_documents_to_dict(graph_documents):\n",
    "    \"\"\"\n",
    "    Convert the graph documents into a dictionary format suitable for loading into Neo4j\n",
    "    \"\"\"\n",
    "    dict_list = []\n",
    "\n",
    "    for doc in graph_documents:\n",
    "        # Extract nodes and relationships from each GraphDocument\n",
    "        nodes = [{'id': node.id, 'type': node.type} for node in doc.nodes]\n",
    "        relationships = [\n",
    "            {\n",
    "                'source': rel.source.id,\n",
    "                'target': rel.target.id,\n",
    "                'type': rel.type\n",
    "            }\n",
    "            for rel in doc.relationships\n",
    "        ]\n",
    "\n",
    "        # Append to dictionary list\n",
    "        dict_list.append({\n",
    "            'nodes': nodes,\n",
    "            'relationships': relationships\n",
    "        })\n",
    "\n",
    "    return dict_list"
   ]
  },
  {
   "cell_type": "code",
   "execution_count": 10,
   "metadata": {
    "colab": {
     "base_uri": "https://localhost:8080/"
    },
    "id": "VTGbmLLgAYoB",
    "outputId": "79b2a6e6-58aa-48a0-e5ff-265b38c45839"
   },
   "outputs": [
    {
     "data": {
      "text/plain": [
       "[{'nodes': [{'id': 'Avul Pakir Jainulabdeen Abdul Kalam Br', 'type': 'Person'},\n",
       "   {'id': 'Defence Research And Development Organisation (Drdo)',\n",
       "    'type': 'Organization'},\n",
       "   {'id': 'Indian Space Research Organisation (Isro)', 'type': 'Organization'},\n",
       "   {'id': 'Bharatiya Janata Party', 'type': 'Organization'},\n",
       "   {'id': 'Indian National Congress', 'type': 'Organization'},\n",
       "   {'id': 'Rameswaram', 'type': 'Place'},\n",
       "   {'id': 'Tamil Nadu', 'type': 'Place'},\n",
       "   {'id': 'India', 'type': 'Country'},\n",
       "   {'id': 'Pokhran-Ii', 'type': 'Event'}],\n",
       "  'relationships': [{'source': 'Avul Pakir Jainulabdeen Abdul Kalam Br',\n",
       "    'target': 'Rameswaram',\n",
       "    'type': 'BORN_IN'},\n",
       "   {'source': 'Avul Pakir Jainulabdeen Abdul Kalam Br',\n",
       "    'target': 'Tamil Nadu',\n",
       "    'type': 'RAISED_IN'},\n",
       "   {'source': 'Avul Pakir Jainulabdeen Abdul Kalam Br',\n",
       "    'target': 'Defence Research And Development Organisation (Drdo)',\n",
       "    'type': 'WORKED_AT'},\n",
       "   {'source': 'Avul Pakir Jainulabdeen Abdul Kalam Br',\n",
       "    'target': 'Indian Space Research Organisation (Isro)',\n",
       "    'type': 'WORKED_AT'},\n",
       "   {'source': 'Avul Pakir Jainulabdeen Abdul Kalam Br',\n",
       "    'target': 'Pokhran-Ii',\n",
       "    'type': 'PARTICIPATED_IN'},\n",
       "   {'source': 'Avul Pakir Jainulabdeen Abdul Kalam Br',\n",
       "    'target': 'India',\n",
       "    'type': 'PRESIDENT_OF'},\n",
       "   {'source': 'Avul Pakir Jainulabdeen Abdul Kalam Br',\n",
       "    'target': 'Bharatiya Janata Party',\n",
       "    'type': 'ELECTED_BY'},\n",
       "   {'source': 'Avul Pakir Jainulabdeen Abdul Kalam Br',\n",
       "    'target': 'Indian National Congress',\n",
       "    'type': 'SUPPORTED_BY'}]}]"
      ]
     },
     "execution_count": 10,
     "metadata": {},
     "output_type": "execute_result"
    }
   ],
   "source": [
    "graph_documents_dict = convert_graph_documents_to_dict(graph_documents)\n",
    "graph_documents_dict"
   ]
  },
  {
   "cell_type": "code",
   "execution_count": 11,
   "metadata": {
    "id": "7YqzO1qb-PRd"
   },
   "outputs": [],
   "source": [
    "##Step 3. Load Graph Documents into Neo4j.\n",
    "driver = GraphDatabase.driver(NEO4J_URI, auth=(NEO4J_USERNAME, NEO4J_PASSWORD))\n",
    "\n",
    "def load_graph_documents(driver, graph_documents):\n",
    "    with driver.session() as session:\n",
    "        for doc in graph_documents:\n",
    "            # Ensure doc is a dictionary\n",
    "            if isinstance(doc, dict):\n",
    "                # Create nodes\n",
    "                nodes = doc.get('nodes', [])\n",
    "                for node in nodes:\n",
    "                    if isinstance(node, dict):  # Ensure each node is a dictionary\n",
    "                        session.run(\n",
    "                            f\"\"\"\n",
    "                            MERGE (n:{node.get('type')} {{name: $name}})\n",
    "                            SET n += $properties\n",
    "                            \"\"\",\n",
    "                            name=node.get('id'),\n",
    "                            properties={k: v for k, v in node.items() if k not in ['id', 'type']}\n",
    "                        )\n",
    "                # Create relationships\n",
    "                relationships = doc.get('relationships', [])\n",
    "                for rel in relationships:\n",
    "                    if isinstance(rel, dict):  # Ensure each relationship is a dictionary\n",
    "                        session.run(\n",
    "                            f\"\"\"\n",
    "                            MATCH (a {{name: $source}})\n",
    "                            MATCH (b {{name: $target}})\n",
    "                            MERGE (a)-[r:{rel.get('type')}]->(b)\n",
    "                            \"\"\",\n",
    "                            source=rel.get('source'),\n",
    "                            target=rel.get('target')\n",
    "                        )\n",
    "\n"
   ]
  },
  {
   "cell_type": "code",
   "execution_count": 12,
   "metadata": {
    "id": "bAW11loc-kPt"
   },
   "outputs": [],
   "source": [
    "load_graph_documents(driver, graph_documents_dict)\n"
   ]
  },
  {
   "cell_type": "markdown",
   "metadata": {
    "id": "AFsfFF2vCKyy"
   },
   "source": [
    "The above step will generate the following Graph in Neo4j.\n",
    "\n",
    "![image.png](data:image/png;base64,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)"
   ]
  },
  {
   "cell_type": "code",
   "execution_count": 13,
   "metadata": {
    "colab": {
     "base_uri": "https://localhost:8080/"
    },
    "id": "z16hDqDqKkw0",
    "outputId": "d9e0f2f5-282f-42af-e4d1-6bd2886a4c49"
   },
   "outputs": [
    {
     "name": "stdout",
     "output_type": "stream",
     "text": [
      "\n",
      "\n",
      "\u001b[1m> Entering new GraphCypherQAChain chain...\u001b[0m\n",
      "Generated Cypher:\n",
      "\u001b[32;1m\u001b[1;3mMATCH (p:Person {name: \"Avul Pakir Jainulabdeen Abdul Kalam\"})<-[:PARTICIPATED_IN]-(e:Event) RETURN e.name  \n",
      "\u001b[0m\n",
      "Full Context:\n",
      "\u001b[32;1m\u001b[1;3m[]\u001b[0m\n",
      "\n",
      "\u001b[1m> Finished chain.\u001b[0m\n",
      "Question: What was Avul Pakir Jainulabdeen Abdul Kalam Br involved in?\n",
      "Response: {'query': 'What was Avul Pakir Jainulabdeen Abdul Kalam Br involved in?', 'result': \"I don't know the answer. \\n\"}\n"
     ]
    }
   ],
   "source": [
    "#Step 4. Retrieve information from Neo4j without writing Cypher Queries explicitly.\n",
    "\n",
    "# Initialize Neo4jGraph object for graph operations\n",
    "graph = Neo4jGraph(url=NEO4J_URI, username=NEO4J_USERNAME, password=NEO4J_PASSWORD)\n",
    "\n",
    "# Initialize GraphCypherQAChain\n",
    "chain = GraphCypherQAChain.from_llm(llm=llm, graph=graph, verbose=True)\n",
    "\n",
    "# Define a sample question\n",
    "question = \"What was Avul Pakir Jainulabdeen Abdul Kalam Br involved in?\"\n",
    "\n",
    "# Get the response\n",
    "response = chain.invoke({\"query\": question})\n",
    "print(f\"Question: {question}\")\n",
    "print(f\"Response: {response}\")"
   ]
  },
  {
   "cell_type": "code",
   "execution_count": 14,
   "metadata": {
    "colab": {
     "base_uri": "https://localhost:8080/"
    },
    "id": "OHeet7tz-lKS",
    "outputId": "65876518-92a1-4b88-f0e1-535b3d142f5c"
   },
   "outputs": [
    {
     "name": "stdout",
     "output_type": "stream",
     "text": [
      "\n",
      "\n",
      "\u001b[1m> Entering new GraphCypherQAChain chain...\u001b[0m\n",
      "Generated Cypher:\n",
      "\u001b[32;1m\u001b[1;3mMATCH (p:Person {name: \"Avul Pakir Jainulabdeen Abdul Kalam Br\"})-[r]->(e:Event)\n",
      "RETURN e.name AS event_name\u001b[0m\n",
      "Full Context:\n",
      "\u001b[32;1m\u001b[1;3m[{'event_name': 'Pokhran-Ii'}]\u001b[0m\n",
      "\n",
      "\u001b[1m> Finished chain.\u001b[0m\n",
      "Question: What was Avul Pakir Jainulabdeen Abdul Kalam Br involved in?\n",
      "Response: {'query': 'What was Avul Pakir Jainulabdeen Abdul Kalam Br involved in?', 'result': 'Avul Pakir Jainulabdeen Abdul Kalam was involved in Pokhran-Ii.  \\n'}\n"
     ]
    }
   ],
   "source": [
    "# Initialize Neo4jGraph object for graph operations\n",
    "graph = Neo4jGraph(url=NEO4J_URI, username=NEO4J_USERNAME, password=NEO4J_PASSWORD)\n",
    "\n",
    "# Initialize GraphCypherQAChain\n",
    "chain = GraphCypherQAChain.from_llm(llm=llm, graph=graph, verbose=True)\n",
    "\n",
    "# Define a sample question\n",
    "question = \"What was Avul Pakir Jainulabdeen Abdul Kalam Br involved in?\"\n",
    "\n",
    "# Get the response\n",
    "response = chain.invoke({\"query\": question})\n",
    "print(f\"Question: {question}\")\n",
    "print(f\"Response: {response}\")"
   ]
  },
  {
   "cell_type": "code",
   "execution_count": 15,
   "metadata": {
    "colab": {
     "base_uri": "https://localhost:8080/"
    },
    "id": "bNDbLTdc-pG3",
    "outputId": "ad485cd2-d778-4450-a959-e27ac35ee5b0"
   },
   "outputs": [
    {
     "name": "stdout",
     "output_type": "stream",
     "text": [
      "\n",
      "\n",
      "\u001b[1m> Entering new GraphCypherQAChain chain...\u001b[0m\n",
      "Generated Cypher:\n",
      "\u001b[32;1m\u001b[1;3mMATCH (p:Person {name: \"Avul Pakir Jainulabdeen Abdul Kalam\"})-[:WORKED_AT]->(o:Organization) RETURN o.name \n",
      "\u001b[0m\n",
      "Full Context:\n",
      "\u001b[32;1m\u001b[1;3m[]\u001b[0m\n",
      "\n",
      "\u001b[1m> Finished chain.\u001b[0m\n",
      "Question: where was Avul Pakir Jainulabdeen Abdul Kalam Br worked at?\n",
      "Response: {'query': 'where was Avul Pakir Jainulabdeen Abdul Kalam Br worked at?', 'result': \"I don't know the answer. \\n\"}\n"
     ]
    }
   ],
   "source": [
    "# Define a sample question\n",
    "question = \"where was Avul Pakir Jainulabdeen Abdul Kalam Br worked at?\"\n",
    "\n",
    "# Get the response\n",
    "response = chain.invoke({\"query\": question})\n",
    "print(f\"Question: {question}\")\n",
    "print(f\"Response: {response}\")"
   ]
  },
  {
   "cell_type": "code",
   "execution_count": null,
   "metadata": {
    "id": "J48UnCfeCtgo"
   },
   "outputs": [],
   "source": []
  }
 ],
 "metadata": {
  "colab": {
   "provenance": []
  },
  "kernelspec": {
   "display_name": "Python 3 (ipykernel)",
   "language": "python",
   "name": "python3"
  },
  "language_info": {
   "codemirror_mode": {
    "name": "ipython",
    "version": 3
   },
   "file_extension": ".py",
   "mimetype": "text/x-python",
   "name": "python",
   "nbconvert_exporter": "python",
   "pygments_lexer": "ipython3",
   "version": "3.12.4"
  }
 },
 "nbformat": 4,
 "nbformat_minor": 4
}
