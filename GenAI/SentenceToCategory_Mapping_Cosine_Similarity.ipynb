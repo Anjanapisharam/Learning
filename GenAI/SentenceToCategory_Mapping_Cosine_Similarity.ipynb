{
 "cells": [
  {
   "cell_type": "code",
   "execution_count": 3,
   "id": "610c43f2-73ce-4609-8298-8ea49a99376e",
   "metadata": {
    "scrolled": true
   },
   "outputs": [
    {
     "name": "stdout",
     "output_type": "stream",
     "text": [
      "Requirement already satisfied: torch in c:\\users\\anjana\\anaconda3\\lib\\site-packages (2.5.1)\n",
      "Requirement already satisfied: sentence-transformers in c:\\users\\anjana\\anaconda3\\lib\\site-packages (3.3.0)\n",
      "Requirement already satisfied: filelock in c:\\users\\anjana\\anaconda3\\lib\\site-packages (from torch) (3.13.1)\n",
      "Requirement already satisfied: typing-extensions>=4.8.0 in c:\\users\\anjana\\anaconda3\\lib\\site-packages (from torch) (4.11.0)\n",
      "Requirement already satisfied: networkx in c:\\users\\anjana\\anaconda3\\lib\\site-packages (from torch) (3.2.1)\n",
      "Requirement already satisfied: jinja2 in c:\\users\\anjana\\anaconda3\\lib\\site-packages (from torch) (3.1.4)\n",
      "Requirement already satisfied: fsspec in c:\\users\\anjana\\anaconda3\\lib\\site-packages (from torch) (2024.3.1)\n",
      "Requirement already satisfied: setuptools in c:\\users\\anjana\\anaconda3\\lib\\site-packages (from torch) (69.5.1)\n",
      "Requirement already satisfied: sympy==1.13.1 in c:\\users\\anjana\\anaconda3\\lib\\site-packages (from torch) (1.13.1)\n",
      "Requirement already satisfied: mpmath<1.4,>=1.1.0 in c:\\users\\anjana\\anaconda3\\lib\\site-packages (from sympy==1.13.1->torch) (1.3.0)\n",
      "Requirement already satisfied: transformers<5.0.0,>=4.41.0 in c:\\users\\anjana\\anaconda3\\lib\\site-packages (from sentence-transformers) (4.46.2)\n",
      "Requirement already satisfied: tqdm in c:\\users\\anjana\\anaconda3\\lib\\site-packages (from sentence-transformers) (4.66.4)\n",
      "Requirement already satisfied: scikit-learn in c:\\users\\anjana\\anaconda3\\lib\\site-packages (from sentence-transformers) (1.5.2)\n",
      "Requirement already satisfied: scipy in c:\\users\\anjana\\anaconda3\\lib\\site-packages (from sentence-transformers) (1.14.1)\n",
      "Requirement already satisfied: huggingface-hub>=0.20.0 in c:\\users\\anjana\\anaconda3\\lib\\site-packages (from sentence-transformers) (0.25.2)\n",
      "Requirement already satisfied: Pillow in c:\\users\\anjana\\anaconda3\\lib\\site-packages (from sentence-transformers) (10.3.0)\n",
      "Requirement already satisfied: packaging>=20.9 in c:\\users\\anjana\\appdata\\roaming\\python\\python312\\site-packages (from huggingface-hub>=0.20.0->sentence-transformers) (24.1)\n",
      "Requirement already satisfied: pyyaml>=5.1 in c:\\users\\anjana\\anaconda3\\lib\\site-packages (from huggingface-hub>=0.20.0->sentence-transformers) (6.0.1)\n",
      "Requirement already satisfied: requests in c:\\users\\anjana\\anaconda3\\lib\\site-packages (from huggingface-hub>=0.20.0->sentence-transformers) (2.32.2)\n",
      "Requirement already satisfied: colorama in c:\\users\\anjana\\appdata\\roaming\\python\\python312\\site-packages (from tqdm->sentence-transformers) (0.4.6)\n",
      "Requirement already satisfied: numpy>=1.17 in c:\\users\\anjana\\anaconda3\\lib\\site-packages (from transformers<5.0.0,>=4.41.0->sentence-transformers) (2.1.3)\n",
      "Requirement already satisfied: regex!=2019.12.17 in c:\\users\\anjana\\anaconda3\\lib\\site-packages (from transformers<5.0.0,>=4.41.0->sentence-transformers) (2023.10.3)\n",
      "Requirement already satisfied: safetensors>=0.4.1 in c:\\users\\anjana\\anaconda3\\lib\\site-packages (from transformers<5.0.0,>=4.41.0->sentence-transformers) (0.4.5)\n",
      "Requirement already satisfied: tokenizers<0.21,>=0.20 in c:\\users\\anjana\\anaconda3\\lib\\site-packages (from transformers<5.0.0,>=4.41.0->sentence-transformers) (0.20.1)\n",
      "Requirement already satisfied: MarkupSafe>=2.0 in c:\\users\\anjana\\anaconda3\\lib\\site-packages (from jinja2->torch) (2.1.3)\n",
      "Requirement already satisfied: joblib>=1.2.0 in c:\\users\\anjana\\anaconda3\\lib\\site-packages (from scikit-learn->sentence-transformers) (1.4.2)\n",
      "Requirement already satisfied: threadpoolctl>=3.1.0 in c:\\users\\anjana\\anaconda3\\lib\\site-packages (from scikit-learn->sentence-transformers) (3.5.0)\n",
      "Requirement already satisfied: charset-normalizer<4,>=2 in c:\\users\\anjana\\anaconda3\\lib\\site-packages (from requests->huggingface-hub>=0.20.0->sentence-transformers) (2.0.4)\n",
      "Requirement already satisfied: idna<4,>=2.5 in c:\\users\\anjana\\anaconda3\\lib\\site-packages (from requests->huggingface-hub>=0.20.0->sentence-transformers) (2.10)\n",
      "Requirement already satisfied: urllib3<3,>=1.21.1 in c:\\users\\anjana\\anaconda3\\lib\\site-packages (from requests->huggingface-hub>=0.20.0->sentence-transformers) (2.2.2)\n",
      "Requirement already satisfied: certifi>=2017.4.17 in c:\\users\\anjana\\anaconda3\\lib\\site-packages (from requests->huggingface-hub>=0.20.0->sentence-transformers) (2024.6.2)\n"
     ]
    }
   ],
   "source": [
    "# !pip3 install --upgrade torch sentence-transformers"
   ]
  },
  {
   "cell_type": "code",
   "execution_count": 5,
   "id": "819c9ece-4ff6-45ad-9cfe-90264aafa3de",
   "metadata": {},
   "outputs": [
    {
     "name": "stdout",
     "output_type": "stream",
     "text": [
      "Collecting numpy<2\n",
      "  Using cached numpy-1.26.4-cp312-cp312-win_amd64.whl.metadata (61 kB)\n",
      "Using cached numpy-1.26.4-cp312-cp312-win_amd64.whl (15.5 MB)\n",
      "Installing collected packages: numpy\n",
      "  Attempting uninstall: numpy\n",
      "    Found existing installation: numpy 2.1.3\n",
      "    Uninstalling numpy-2.1.3:\n",
      "      Successfully uninstalled numpy-2.1.3\n",
      "Successfully installed numpy-1.26.4\n"
     ]
    },
    {
     "name": "stderr",
     "output_type": "stream",
     "text": [
      "  WARNING: Failed to remove contents in a temporary directory 'C:\\Users\\anjana\\anaconda3\\Lib\\site-packages\\~-mpy.libs'.\n",
      "  You can safely remove it manually.\n",
      "  WARNING: Failed to remove contents in a temporary directory 'C:\\Users\\anjana\\anaconda3\\Lib\\site-packages\\~-mpy'.\n",
      "  You can safely remove it manually.\n",
      "ERROR: pip's dependency resolver does not currently take into account all the packages that are installed. This behaviour is the source of the following dependency conflicts.\n",
      "blis 1.0.1 requires numpy<3.0.0,>=2.0.0, but you have numpy 1.26.4 which is incompatible.\n",
      "ortools 9.11.4210 requires protobuf<5.27,>=5.26.1, but you have protobuf 5.28.2 which is incompatible.\n",
      "streamlit 1.32.0 requires packaging<24,>=16.8, but you have packaging 24.1 which is incompatible.\n",
      "streamlit 1.32.0 requires protobuf<5,>=3.20, but you have protobuf 5.28.2 which is incompatible.\n",
      "tensorflow-intel 2.17.0 requires protobuf!=4.21.0,!=4.21.1,!=4.21.2,!=4.21.3,!=4.21.4,!=4.21.5,<5.0.0dev,>=3.20.3, but you have protobuf 5.28.2 which is incompatible.\n",
      "thinc 8.3.2 requires numpy<2.1.0,>=2.0.0; python_version >= \"3.9\", but you have numpy 1.26.4 which is incompatible.\n"
     ]
    }
   ],
   "source": [
    "# !pip3 install \"numpy<2\" "
   ]
  },
  {
   "cell_type": "code",
   "execution_count": 1,
   "id": "47000d08-e102-4746-8e98-31eabe956aff",
   "metadata": {},
   "outputs": [
    {
     "name": "stdout",
     "output_type": "stream",
     "text": [
      "WARNING:tensorflow:From C:\\Users\\anjana\\anaconda3\\Lib\\site-packages\\tf_keras\\src\\losses.py:2976: The name tf.losses.sparse_softmax_cross_entropy is deprecated. Please use tf.compat.v1.losses.sparse_softmax_cross_entropy instead.\n",
      "\n"
     ]
    }
   ],
   "source": [
    "from sentence_transformers import SentenceTransformer, util\n",
    "# Load the model\n",
    "model = SentenceTransformer('all-MiniLM-L6-v2')  # Small and efficient model\n"
   ]
  },
  {
   "cell_type": "code",
   "execution_count": null,
   "id": "0b8caa69-7e89-41ec-8f83-174ab779ac05",
   "metadata": {},
   "outputs": [],
   "source": [
    "def get_most_similar(list_elements, input_sentence):\n",
    "    # Compute embeddings\n",
    "    ls =[]\n",
    "    list_elements_embeddings = model.encode(list_elements)\n",
    "    input_sentence_embedding = model.encode(input_sentence)\n",
    "    \n",
    "    # Compute cosine similarities between sentence and phrases\n",
    "    cosine_scores = util.cos_sim(input_sentence_embedding, list_elements_embeddings)[0]\n",
    "    \n",
    "    # Get top 3 similar phrases with their scores\n",
    "    top_results = sorted(zip(list_elements, cosine_scores), key=lambda x: x[1], reverse=True)[:3]\n",
    "    for phrase, score in top_results:\n",
    "        ls.append([phrase,score])\n",
    "    return ls\n",
    "    \n"
   ]
  },
  {
   "cell_type": "code",
   "execution_count": null,
   "id": "20c0cf48-ec1a-4107-848a-af533a9580f4",
   "metadata": {},
   "outputs": [],
   "source": [
    "occupation_json = {\"1\": \"Accounts/Financial Professional\",\n",
    "    \"2\": \"Actor\",\n",
    "    \"107\": \"Administrative Professional\",\n",
    "    \"91\": \"Advertising / PR Professional\",\n",
    "    \"103\": \"Airforce\",\n",
    "    \"3\": \"Air Hostess\",\n",
    "    \"4\": \"Airline Professional\",\n",
    "    \"73\": \"Animator\",\n",
    "    \"5\": \"Architect\",\n",
    "    \"101\": \"Army\",\n",
    "    \"80\": \"Artist\",\n",
    "    \"77\": \"Astrologer\",\n",
    "    \"105\": \"Auditor\",\n",
    "    \"6\": \"Banking Professional\",\n",
    "    \"8\": \"Beautician\",\n",
    "    \"9\": \"Business\",\n",
    "    \"86\": \"Business Analyst\",\n",
    "    \"61\": \"Captain\",\n",
    "    \"99\": \"Central Government Employee\",\n",
    "    \"10\": \"Chartered Accountant\",\n",
    "    \"83\": \"Chartered Financial Analyst\",\n",
    "    \"104\": \"Civil Services (IAS/IFS/IPS/IRS/IES)\",\n",
    "    \"108\": \"Clerk\",\n",
    "    \"106\": \"Company Secretary\",\n",
    "    \"11\": \"Computer Professional\",\n",
    "    \"65\": \"Computer Programmer\",\n",
    "    \"12\": \"Consultant\",\n",
    "    \"66\": \"Contractor\",\n",
    "    \"56\": \"Counsellor\",\n",
    "    \"93\": \"CTO/CEO/CFO/COO\",\n",
    "    \"78\": \"Customer Care\",\n",
    "    \"69\": \"Deacon\",\n",
    "    \"13\": \"Defence\",\n",
    "    \"14\": \"Dentist\",\n",
    "    \"57\": \"Dietician\",\n",
    "    \"15\": \"Doctor\",\n",
    "    \"81\": \"Draftsman\",\n",
    "    \"16\": \"Driver\",\n",
    "    \"67\": \"Electrician\",\n",
    "    \"17\": \"Engineer\",\n",
    "    \"89\": \"Entertainment Professional\",\n",
    "    \"18\": \"Entrepreneur\",\n",
    "    \"88\": \"Event Management Professional\",\n",
    "    \"19\": \"Executive\",\n",
    "    \"20\": \"Farmer\",\n",
    "    \"63\": \"Fashion Designer\",\n",
    "    \"22\": \"Government Staff\",\n",
    "    \"82\": \"Graphic Designer\",\n",
    "    \"23\": \"Gulf-based\",\n",
    "    \"97\": \"Hardware Professional\",\n",
    "    \"62\": \"Hotel / Hospitality Professional\",\n",
    "    \"92\": \"HR professional\",\n",
    "    \"85\": \"Industrial Designer\",\n",
    "    \"25\": \"Insurance Agent\",\n",
    "    \"74\": \"Interior Designer\",\n",
    "    \"26\": \"Journalist\",\n",
    "    \"59\": \"Lab Technician\",\n",
    "    \"27\": \"Lawyer\",\n",
    "    \"28\": \"Lecturer\",\n",
    "    \"84\": \"Legal Officer\",\n",
    "    \"98\": \"Legal professional\",\n",
    "    \"87\": \"Makeup Artist\",\n",
    "    \"29\": \"Management Professional\",\n",
    "    \"71\": \"Manager\",\n",
    "    \"30\": \"Marketing Professional\",\n",
    "    \"31\": \"Media Professional\",\n",
    "    \"79\": \"Medical Representative\",\n",
    "    \"32\": \"Merchant navy\",\n",
    "    \"70\": \"Microbiologist\",\n",
    "    \"102\": \"Navy\",\n",
    "    \"33\": \"NRI\",\n",
    "    \"34\": \"Not employed\",\n",
    "    \"35\": \"Nursing Professional\",\n",
    "    \"90\": \"Occupational Therapist\",\n",
    "    \"36\": \"Office Staff\",\n",
    "    \"38\": \"Paramedical Professional\",\n",
    "    \"39\": \"Pharmacist\",\n",
    "    \"54\": \"Physiotherapist\",\n",
    "    \"40\": \"Pilot\",\n",
    "    \"41\": \"Police\",\n",
    "    \"76\": \"Politician\",\n",
    "    \"94\": \"President/ Director/ Chairman\",\n",
    "    \"68\": \"Priest\",\n",
    "    \"52\": \"Professor\",\n",
    "    \"55\": \"Psychologist\",\n",
    "    \"109\": \"Quality Controller\",\n",
    "    \"42\": \"Sales Executive\",\n",
    "    \"43\": \"Salesman\",\n",
    "    \"44\": \"Scientist/Researcher\",\n",
    "    \"45\": \"Self Employed\",\n",
    "    \"58\": \"Social Worker\",\n",
    "    \"46\": \"Sportsman\",\n",
    "    \"100\": \"State Government Employee\",\n",
    "    \"47\": \"Student\",\n",
    "    \"110\": \"Supervisor\",\n",
    "    \"48\": \"Teacher\",\n",
    "    \"49\": \"Technical staff\",\n",
    "    \"50\": \"Trader\",\n",
    "    \"60\": \"Trainer\",\n",
    "    \"53\": \"Tutor\",\n",
    "    \"72\": \"Videographer/Photographer\",\n",
    "    \"64\": \"Web Designer\",\n",
    "    \"75\": \"Web Developer\",\n",
    "    \"51\": \"Wholesale Businessman\",\n",
    "    \"37\": \"Other\"}"
   ]
  },
  {
   "cell_type": "code",
   "execution_count": null,
   "id": "c9346e14-52fc-43d6-b42c-ad7f1d065510",
   "metadata": {},
   "outputs": [],
   "source": []
  },
  {
   "cell_type": "code",
   "execution_count": null,
   "id": "c7f22333-491c-4d04-9b49-db242eb963e5",
   "metadata": {},
   "outputs": [],
   "source": [
    "occupation_list = list(occupation_json.values())\n",
    "occupation_list[0:10] "
   ]
  },
  {
   "cell_type": "code",
   "execution_count": null,
   "id": "21986ba1-a15e-455f-aa72-6f886e062c87",
   "metadata": {},
   "outputs": [],
   "source": [
    "#Eg: 1\n",
    "get_most_similar(occupation_list, \"Work in the Malayalam Manorama M4 Marri Service Call Department\") "
   ]
  },
  {
   "cell_type": "code",
   "execution_count": null,
   "id": "eabae13a-0a68-48ad-b215-36945af1f17d",
   "metadata": {},
   "outputs": [],
   "source": [
    "#Eg: 2\n",
    "get_most_similar(occupation_list, \"Running a textile shop near House\") "
   ]
  },
  {
   "cell_type": "code",
   "execution_count": null,
   "id": "59f13109-b7bb-4cc9-9649-2329d82c383e",
   "metadata": {},
   "outputs": [],
   "source": [
    "#Eg: 3\n",
    "get_most_similar(occupation_list, \"teaching in a school nearby\") "
   ]
  },
  {
   "cell_type": "code",
   "execution_count": null,
   "id": "bd6cd984-fa93-45ff-ae1c-fe77be4ac469",
   "metadata": {},
   "outputs": [],
   "source": [
    "example_list = [\"Working as a nurse at the local hospital.\",\n",
    "\"Managing a small cafe in the city center.\",\n",
    "\"Teaching math at the high school nearby.\",\n",
    "\"Running a bakery just down the street.\",\n",
    "\"Freelancing as a graphic designer from home.\",\n",
    "\"Helping my dad with his construction business.\",\n",
    "\"Working part-time as a barista at a coffee shop.\", \n",
    "\"Running an online jewelry store.\",\n",
    "\"Doing maintenance work for a few apartment complexes.\",\n",
    "\"Selling homemade soaps and skincare products online.\"]\n",
    "\n",
    "example_list"
   ]
  },
  {
   "cell_type": "code",
   "execution_count": null,
   "id": "23447951-b3c8-45b9-b06c-d850e05b147f",
   "metadata": {},
   "outputs": [],
   "source": [
    "for i in example_list:\n",
    "    print(i)\n",
    "    print(get_most_similar(occupation_list, i))\n",
    "    print(\"---------------------\") "
   ]
  },
  {
   "cell_type": "code",
   "execution_count": null,
   "id": "795d86b6-7de3-4f77-b8ed-ef8892e4b295",
   "metadata": {},
   "outputs": [],
   "source": []
  },
  {
   "cell_type": "code",
   "execution_count": null,
   "id": "62a34ed1-5d38-4511-b471-d6fb4611efab",
   "metadata": {},
   "outputs": [],
   "source": []
  },
  {
   "cell_type": "code",
   "execution_count": null,
   "id": "a9e4b25a-2031-4679-8ec2-bfa31fdf7f2a",
   "metadata": {},
   "outputs": [],
   "source": []
  },
  {
   "cell_type": "code",
   "execution_count": null,
   "id": "fc1f3eb3-3a67-4d1f-8b91-b68f47bf1995",
   "metadata": {},
   "outputs": [],
   "source": []
  }
 ],
 "metadata": {
  "kernelspec": {
   "display_name": "Python 3 (ipykernel)",
   "language": "python",
   "name": "python3"
  },
  "language_info": {
   "codemirror_mode": {
    "name": "ipython",
    "version": 3
   },
   "file_extension": ".py",
   "mimetype": "text/x-python",
   "name": "python",
   "nbconvert_exporter": "python",
   "pygments_lexer": "ipython3",
   "version": "3.12.4"
  }
 },
 "nbformat": 4,
 "nbformat_minor": 5
}
