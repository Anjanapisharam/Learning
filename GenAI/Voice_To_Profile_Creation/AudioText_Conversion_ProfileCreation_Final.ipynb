{
 "cells": [
  {
   "cell_type": "code",
   "execution_count": null,
   "id": "dbf0c505-073a-4e5e-aab2-7af6498efe07",
   "metadata": {},
   "outputs": [],
   "source": [
    "#Extract Audio - Translated Text \n",
    "#Model- OpenAI - whisper \n"
   ]
  },
  {
   "cell_type": "code",
   "execution_count": 1,
   "id": "529f15fa-e891-41af-9c1e-a08a7d4cdda6",
   "metadata": {},
   "outputs": [],
   "source": [
    "import openai\n",
    "from openai import OpenAI\n",
    "import os"
   ]
  },
  {
   "cell_type": "code",
   "execution_count": 2,
   "id": "4f076fae-16e3-4c3d-826a-d8c75beb584c",
   "metadata": {},
   "outputs": [],
   "source": [
    "GROQ_API_KEY=\"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\""
   ]
  },
  {
   "cell_type": "code",
   "execution_count": 3,
   "id": "95bf6fc0-9190-40b1-a529-2873660ca0ff",
   "metadata": {},
   "outputs": [],
   "source": [
    "client = OpenAI(base_url = \"https://api.groq.com/openai/v1\", api_key = GROQ_API_KEY) \n"
   ]
  },
  {
   "cell_type": "code",
   "execution_count": null,
   "id": "ae5e5ecd-5372-4d96-81da-eaefbb65cfd2",
   "metadata": {},
   "outputs": [],
   "source": []
  },
  {
   "cell_type": "code",
   "execution_count": 4,
   "id": "7bee2d51-d10d-43c1-bb78-353ac17b5011",
   "metadata": {},
   "outputs": [
    {
     "data": {
      "text/plain": [
       "['AUD-20241016-WA0004.opus',\n",
       " 'AUD-20241016-WA0005.opus',\n",
       " 'AUD-20241016-WA0006.opus',\n",
       " 'AUD-20241016-WA0007.opus',\n",
       " 'AUD-20241016-WA0008.opus']"
      ]
     },
     "execution_count": 4,
     "metadata": {},
     "output_type": "execute_result"
    }
   ],
   "source": [
    "audio_ls = [\"AUD-20241016-WA0004.opus\",\"AUD-20241016-WA0005.opus\", \"AUD-20241016-WA0006.opus\", \"AUD-20241016-WA0007.opus\",\"AUD-20241016-WA0008.opus\"]\n",
    "audio_ls"
   ]
  },
  {
   "cell_type": "code",
   "execution_count": 5,
   "id": "14c06cc4-d539-4d52-ae9e-706c1ea3df3e",
   "metadata": {},
   "outputs": [],
   "source": [
    "def get_text_audio(file_location):\n",
    "    audio_file= open(file_location, \"rb\")\n",
    "    translation = client.audio.translations.create(\n",
    "      model=\"whisper-large-v3\", \n",
    "      file=audio_file\n",
    "    )\n",
    "    output = translation.text\n",
    "    return output\n",
    "    "
   ]
  },
  {
   "cell_type": "code",
   "execution_count": null,
   "id": "f7a70639-2fa4-4708-82b7-0b1dcd46958f",
   "metadata": {},
   "outputs": [],
   "source": []
  },
  {
   "cell_type": "code",
   "execution_count": 6,
   "id": "1be4f600-0b1f-4cd4-a936-1450259f00ef",
   "metadata": {},
   "outputs": [
    {
     "name": "stdout",
     "output_type": "stream",
     "text": [
      "AUD-20241016-WA0004.opus\n"
     ]
    }
   ],
   "source": [
    "output_ls =[]\n",
    "for audio in audio_ls[0:1]:\n",
    "    print(audio)\n",
    "    output = get_text_audio(\"C:/Users/anjana/voiceAssistant/\"+audio)\n",
    "    output_ls.append(output)"
   ]
  },
  {
   "cell_type": "code",
   "execution_count": 7,
   "id": "edd822ea-3755-4a9c-9a25-970fbccaeb02",
   "metadata": {},
   "outputs": [
    {
     "data": {
      "text/plain": [
       "[\" Good morning sir, my name is Sojhi Swaran, I have completed my BBA My father's name is Muthu Sanasi, self-employed My mother's name is Sita Lakshmi, housewife My siblings are my brother and sister My brother is a network engineer at JAWS InfoTech My sister is married So, I am working as a field sales assistant at M4 Marriott\"]"
      ]
     },
     "execution_count": 7,
     "metadata": {},
     "output_type": "execute_result"
    }
   ],
   "source": [
    "output_ls "
   ]
  },
  {
   "cell_type": "code",
   "execution_count": null,
   "id": "82cff164-85b2-49f5-a57e-100b9708fd3f",
   "metadata": {},
   "outputs": [],
   "source": []
  },
  {
   "cell_type": "code",
   "execution_count": null,
   "id": "1912c95f-b476-424b-8da1-d36c19c19f8b",
   "metadata": {},
   "outputs": [],
   "source": [
    "############################################################################################################################"
   ]
  },
  {
   "cell_type": "code",
   "execution_count": 11,
   "id": "1486d365-377b-4bdc-bf06-fbb7dd3d4d3c",
   "metadata": {},
   "outputs": [],
   "source": [
    "def get_profile_document(document):\n",
    "    messages = [\n",
    "        {\"role\": \"system\", \"content\": f\"Find the person's name, age, living place, occupation from the given document. give output in a dictionary format where the above elements are the keys of the Dictionary\"},\n",
    "        {\"role\": \"user\", \"content\": document}\n",
    "    ]\n",
    "    response = client.chat.completions.create(\n",
    "        model=\"llama-3.1-70b-versatile\",  \n",
    "        messages=messages,\n",
    "        temperature=0.5\n",
    "    )\n",
    "    return response.choices[0].message.content"
   ]
  },
  {
   "cell_type": "code",
   "execution_count": 12,
   "id": "dafd60f9-3f55-4af2-830d-62d1d54b7435",
   "metadata": {},
   "outputs": [
    {
     "name": "stdout",
     "output_type": "stream",
     "text": [
      "Here is the output in a dictionary format:\n",
      "\n",
      "```python\n",
      "person_info = {\n",
      "    \"name\": \"Sojhi Swaran\",\n",
      "    \"age\": \"Not available\",  # Age is not mentioned in the document\n",
      "    \"living_place\": \"Not available\",  # Living place is not mentioned in the document\n",
      "    \"occupation\": \"Field Sales Assistant at M4 Marriott\"\n",
      "}\n",
      "```\n",
      "\n",
      "However, if you want to extract information about the person's family members as well, here is the output in a dictionary format:\n",
      "\n",
      "```python\n",
      "family_info = {\n",
      "    \"person\": {\n",
      "        \"name\": \"Sojhi Swaran\",\n",
      "        \"age\": \"Not available\",  # Age is not mentioned in the document\n",
      "        \"living_place\": \"Not available\",  # Living place is not mentioned in the document\n",
      "        \"occupation\": \"Field Sales Assistant at M4 Marriott\"\n",
      "    },\n",
      "    \"father\": {\n",
      "        \"name\": \"Muthu Sanasi\",\n",
      "        \"age\": \"Not available\",  # Age is not mentioned in the document\n",
      "        \"living_place\": \"Not available\",  # Living place is not mentioned in the document\n",
      "        \"occupation\": \"Self-employed\"\n",
      "    },\n",
      "    \"mother\": {\n",
      "        \"name\": \"Sita Lakshmi\",\n",
      "        \"age\": \"Not available\",  # Age is not mentioned in the document\n",
      "        \"living_place\": \"Not available\",  # Living place is not mentioned in the document\n",
      "        \"occupation\": \"Housewife\"\n",
      "    },\n",
      "    \"brother\": {\n",
      "        \"name\": \"Not available\",  # Name is not mentioned in the document\n",
      "        \"age\": \"Not available\",  # Age is not mentioned in the document\n",
      "        \"living_place\": \"Not available\",  # Living place is not mentioned in the document\n",
      "        \"occupation\": \"Network Engineer at JAWS InfoTech\"\n",
      "    },\n",
      "    \"sister\": {\n",
      "        \"name\": \"Not available\",  # Name is not mentioned in the document\n",
      "        \"age\": \"Not available\",  # Age is not mentioned in the document\n",
      "        \"living_place\": \"Not available\",  # Living place is not mentioned in the document\n",
      "        \"occupation\": \"Not available\"  # Occupation is not mentioned in the document\n",
      "    }\n",
      "}\n",
      "```\n",
      "---------\n"
     ]
    }
   ],
   "source": [
    "for i in output_ls:\n",
    "    output =  get_profile_document(i)\n",
    "    print(output)\n",
    "    print(\"---------\")"
   ]
  },
  {
   "cell_type": "code",
   "execution_count": 13,
   "id": "63b7258d-1209-4213-9092-59ee20ac9b5c",
   "metadata": {},
   "outputs": [
    {
     "data": {
      "text/plain": [
       "'Here is the output in a dictionary format:\\n\\n```python\\nperson_info = {\\n    \"name\": \"Sojhi Swaran\",\\n    \"age\": \"Not available\",  # Age is not mentioned in the document\\n    \"living_place\": \"Not available\",  # Living place is not mentioned in the document\\n    \"occupation\": \"Field Sales Assistant at M4 Marriott\"\\n}\\n```\\n\\nHowever, if you want to extract information about the person\\'s family members as well, here is the output in a dictionary format:\\n\\n```python\\nfamily_info = {\\n    \"person\": {\\n        \"name\": \"Sojhi Swaran\",\\n        \"age\": \"Not available\",  # Age is not mentioned in the document\\n        \"living_place\": \"Not available\",  # Living place is not mentioned in the document\\n        \"occupation\": \"Field Sales Assistant at M4 Marriott\"\\n    },\\n    \"father\": {\\n        \"name\": \"Muthu Sanasi\",\\n        \"age\": \"Not available\",  # Age is not mentioned in the document\\n        \"living_place\": \"Not available\",  # Living place is not mentioned in the document\\n        \"occupation\": \"Self-employed\"\\n    },\\n    \"mother\": {\\n        \"name\": \"Sita Lakshmi\",\\n        \"age\": \"Not available\",  # Age is not mentioned in the document\\n        \"living_place\": \"Not available\",  # Living place is not mentioned in the document\\n        \"occupation\": \"Housewife\"\\n    },\\n    \"brother\": {\\n        \"name\": \"Not available\",  # Name is not mentioned in the document\\n        \"age\": \"Not available\",  # Age is not mentioned in the document\\n        \"living_place\": \"Not available\",  # Living place is not mentioned in the document\\n        \"occupation\": \"Network Engineer at JAWS InfoTech\"\\n    },\\n    \"sister\": {\\n        \"name\": \"Not available\",  # Name is not mentioned in the document\\n        \"age\": \"Not available\",  # Age is not mentioned in the document\\n        \"living_place\": \"Not available\",  # Living place is not mentioned in the document\\n        \"occupation\": \"Not available\"  # Occupation is not mentioned in the document\\n    }\\n}\\n```'"
      ]
     },
     "execution_count": 13,
     "metadata": {},
     "output_type": "execute_result"
    }
   ],
   "source": [
    "output"
   ]
  },
  {
   "cell_type": "code",
   "execution_count": null,
   "id": "1e4e682a-b115-4252-ac5d-ba1997aa5282",
   "metadata": {},
   "outputs": [],
   "source": []
  }
 ],
 "metadata": {
  "kernelspec": {
   "display_name": "Python 3 (ipykernel)",
   "language": "python",
   "name": "python3"
  },
  "language_info": {
   "codemirror_mode": {
    "name": "ipython",
    "version": 3
   },
   "file_extension": ".py",
   "mimetype": "text/x-python",
   "name": "python",
   "nbconvert_exporter": "python",
   "pygments_lexer": "ipython3",
   "version": "3.12.4"
  }
 },
 "nbformat": 4,
 "nbformat_minor": 5
}
