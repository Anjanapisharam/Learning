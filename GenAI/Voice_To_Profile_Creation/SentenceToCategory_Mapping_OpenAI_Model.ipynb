{
 "cells": [
  {
   "cell_type": "code",
   "execution_count": null,
   "id": "2b764143-70a2-4b15-8ddf-8768ba6dfa63",
   "metadata": {},
   "outputs": [],
   "source": []
  },
  {
   "cell_type": "code",
   "execution_count": 1,
   "id": "264dfc41-61ab-4216-8053-f3aa9166a28d",
   "metadata": {},
   "outputs": [],
   "source": [
    "import openai\n",
    "from openai import OpenAI\n",
    "import os"
   ]
  },
  {
   "cell_type": "code",
   "execution_count": 2,
   "id": "14faf988-b71e-4245-8897-a4c22c72dc4e",
   "metadata": {},
   "outputs": [],
   "source": [
    "GROQ_API_KEY=\"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\""
   ]
  },
  {
   "cell_type": "code",
   "execution_count": 3,
   "id": "e8cf4ac9-5cb8-469b-bbe2-8899a14384a2",
   "metadata": {},
   "outputs": [],
   "source": [
    "client = OpenAI(base_url = \"https://api.groq.com/openai/v1\", api_key = GROQ_API_KEY) \n",
    "# client = OpenAI() \n"
   ]
  },
  {
   "cell_type": "code",
   "execution_count": 4,
   "id": "5938d4bb-2e28-4287-834c-db5575f96335",
   "metadata": {},
   "outputs": [],
   "source": [
    "predefined_categories = ['Accounts/Financial Professional',\n",
    " 'Actor',\n",
    " 'Administrative Professional',\n",
    " 'Advertising / PR Professional',\n",
    " 'Airforce',\n",
    " 'Air Hostess',\n",
    " 'Airline Professional',\n",
    " 'Animator',\n",
    " 'Architect',\n",
    " 'Army',\n",
    " 'Artist',\n",
    " 'Astrologer',\n",
    " 'Auditor',\n",
    " 'Banking Professional',\n",
    " 'Beautician',\n",
    " 'Business',\n",
    " 'Business Analyst',\n",
    " 'Captain',\n",
    " 'Central Government Employee',\n",
    " 'Chartered Accountant',\n",
    " 'Chartered Financial Analyst',\n",
    " 'Civil Services (IAS/IFS/IPS/IRS/IES)',\n",
    " 'Clerk',\n",
    " 'Company Secretary',\n",
    " 'Computer Professional',\n",
    " 'Computer Programmer',\n",
    " 'Consultant',\n",
    " 'Contractor',\n",
    " 'Counsellor',\n",
    " 'CTO/CEO/CFO/COO',\n",
    " 'Customer Care',\n",
    " 'Deacon',\n",
    " 'Defence',\n",
    " 'Dentist',\n",
    " 'Dietician',\n",
    " 'Doctor',\n",
    " 'Draftsman',\n",
    " 'Driver',\n",
    " 'Electrician',\n",
    " 'Engineer',\n",
    " 'Entertainment Professional',\n",
    " 'Entrepreneur',\n",
    " 'Event Management Professional',\n",
    " 'Executive',\n",
    " 'Farmer',\n",
    " 'Fashion Designer',\n",
    " 'Government Staff',\n",
    " 'Graphic Designer',\n",
    " 'Gulf-based',\n",
    " 'Hardware Professional',\n",
    " 'Hotel / Hospitality Professional',\n",
    " 'HR professional',\n",
    " 'Industrial Designer',\n",
    " 'Insurance Agent',\n",
    " 'Interior Designer',\n",
    " 'Journalist',\n",
    " 'Lab Technician',\n",
    " 'Lawyer',\n",
    " 'Lecturer',\n",
    " 'Legal Officer',\n",
    " 'Legal professional',\n",
    " 'Makeup Artist',\n",
    " 'Management Professional',\n",
    " 'Manager',\n",
    " 'Marketing Professional',\n",
    " 'Media Professional',\n",
    " 'Medical Representative',\n",
    " 'Merchant navy',\n",
    " 'Microbiologist',\n",
    " 'Navy',\n",
    " 'NRI',\n",
    " 'Not employed',\n",
    " 'Nursing Professional',\n",
    " 'Occupational Therapist',\n",
    " 'Office Staff',\n",
    " 'Paramedical Professional',\n",
    " 'Pharmacist',\n",
    " 'Physiotherapist',\n",
    " 'Pilot',\n",
    " 'Police',\n",
    " 'Politician',\n",
    " 'President/ Director/ Chairman',\n",
    " 'Priest',\n",
    " 'Professor',\n",
    " 'Psychologist',\n",
    " 'Quality Controller',\n",
    " 'Sales Executive',\n",
    " 'Salesman',\n",
    " 'Scientist/Researcher',\n",
    " 'Self Employed',\n",
    " 'Social Worker',\n",
    " 'Sportsman',\n",
    " 'State Government Employee',\n",
    " 'Student',\n",
    " 'Supervisor',\n",
    " 'Teacher',\n",
    " 'Technical staff',\n",
    " 'Trader',\n",
    " 'Trainer',\n",
    " 'Tutor',\n",
    " 'Videographer/Photographer',\n",
    " 'Web Designer',\n",
    " 'Web Developer',\n",
    " 'Wholesale Businessman',\n",
    " 'Other']\n"
   ]
  },
  {
   "cell_type": "code",
   "execution_count": 5,
   "id": "7ae09811-c478-435f-a4b1-0f4c3f262c38",
   "metadata": {},
   "outputs": [
    {
     "data": {
      "text/plain": [
       "['Accounts/Financial Professional',\n",
       " 'Actor',\n",
       " 'Administrative Professional',\n",
       " 'Advertising / PR Professional',\n",
       " 'Airforce']"
      ]
     },
     "execution_count": 5,
     "metadata": {},
     "output_type": "execute_result"
    }
   ],
   "source": [
    "predefined_categories[0:5] "
   ]
  },
  {
   "cell_type": "code",
   "execution_count": 6,
   "id": "98c6126b-0335-4bbb-b75e-f34829a3e2fa",
   "metadata": {},
   "outputs": [],
   "source": [
    "def get_mapped_fields_openai_model(predefined_categories, text):\n",
    "    messages = [\n",
    "    # {\"role\": \"system\", \"content\": f\"Read the text, understand the context and cateories/map this text into {predefined_categories} given. Give Top 3 mapped categories suggested with a confidence score. for example, i'm working in a nearby school should mapped to Teacher category. basically it is a text classification problem.\"},\n",
    "    {\"role\": \"system\", \"content\": f\"Read the text, understand the context and cateories/map this text into {predefined_categories} given. Give Top 3 mapped categories suggested with a confidence score in a json format. basically it is a text classification problem. \"},\n",
    "\n",
    "    {\"role\": \"user\", \"content\": text}]\n",
    "    response = client.chat.completions.create(\n",
    "        # model=\"gemma-7b-it\",  \n",
    "        model=\"llama-3.1-70b-versatile\",  \n",
    "    \n",
    "        messages=messages,\n",
    "        temperature=0.5 \n",
    "    )\n",
    "    return response.choices[0].message.content "
   ]
  },
  {
   "cell_type": "code",
   "execution_count": 7,
   "id": "d6d806d1-32ec-48d3-a868-014cd7f29f87",
   "metadata": {},
   "outputs": [
    {
     "data": {
      "text/plain": [
       "['Work in the Malayalam Manorama M4 Marri Service Call Department',\n",
       " 'Running a textile shop near House',\n",
       " 'teaching in a school nearby']"
      ]
     },
     "execution_count": 7,
     "metadata": {},
     "output_type": "execute_result"
    }
   ],
   "source": [
    "example_list = [\"Work in the Malayalam Manorama M4 Marri Service Call Department\",\n",
    "\"Running a textile shop near House\",\"teaching in a school nearby\"]\n",
    "# \"Working as a nurse at the local hospital.\",\n",
    "# \"Managing a small cafe in the city center.\",\n",
    "# \"Teaching math at the high school nearby.\",\n",
    "# \"Running a bakery just down the street.\",\n",
    "# \"Freelancing as a graphic designer from home.\",\n",
    "# \"Helping my dad with his construction business.\",\n",
    "# \"Working part-time as a barista at a coffee shop.\", \n",
    "# \"Running an online jewelry store.\",\n",
    "# \"Doing maintenance work for a few apartment complexes.\",\n",
    "# \"Selling homemade soaps and skincare products online.\"]\n",
    "\n",
    "example_list"
   ]
  },
  {
   "cell_type": "code",
   "execution_count": 8,
   "id": "318e6c2f-b426-4734-87e1-c84340076574",
   "metadata": {
    "scrolled": true
   },
   "outputs": [
    {
     "name": "stdout",
     "output_type": "stream",
     "text": [
      "Work in the Malayalam Manorama M4 Marri Service Call Department\n",
      "Based on the given text, I would categorize it into the following categories with a confidence score:\n",
      "\n",
      "```\n",
      "{\n",
      "  \"categories\": [\n",
      "    {\n",
      "      \"category\": \"Customer Care\",\n",
      "      \"confidence\": 0.8\n",
      "    },\n",
      "    {\n",
      "      \"category\": \"Office Staff\",\n",
      "      \"confidence\": 0.6\n",
      "    },\n",
      "    {\n",
      "      \"category\": \"Administrative Professional\",\n",
      "      \"confidence\": 0.4\n",
      "    }\n",
      "  ]\n",
      "}\n",
      "```\n",
      "\n",
      "The reasoning behind this categorization is as follows:\n",
      "\n",
      "* \"Customer Care\" is the most likely category because the text mentions working in a \"Service Call Department\", which is a common term used in customer care and support.\n",
      "* \"Office Staff\" is the second most likely category because the text mentions working in a department, which implies an office setting.\n",
      "* \"Administrative Professional\" is the third most likely category because the text does not provide any specific information about the technical or specialized nature of the work, and administrative professionals often work in office settings and may be involved in customer care or support.\n",
      "---------------------\n",
      "Running a textile shop near House\n",
      "Based on the given text, the top 3 mapped categories suggested are:\n",
      "\n",
      "```\n",
      "{\n",
      "  \"categories\": [\n",
      "    {\n",
      "      \"category\": \"Business\",\n",
      "      \"confidence\": 0.8\n",
      "    },\n",
      "    {\n",
      "      \"category\": \"Salesman\",\n",
      "      \"confidence\": 0.6\n",
      "    },\n",
      "    {\n",
      "      \"category\": \"Trader\",\n",
      "      \"confidence\": 0.5\n",
      "    }\n",
      "  ]\n",
      "}\n",
      "```\n",
      "\n",
      "Explanation:\n",
      "\n",
      "* The text mentions running a textile shop, which suggests that the person is involved in a business activity, hence the top category is \"Business\" with a confidence score of 0.8.\n",
      "* The person is likely to be involved in sales activities as part of running the shop, hence the second category is \"Salesman\" with a confidence score of 0.6.\n",
      "* The person may also be involved in trading activities, such as purchasing and selling textiles, hence the third category is \"Trader\" with a confidence score of 0.5.\n",
      "---------------------\n",
      "teaching in a school nearby\n",
      "Based on the given text, the top 3 mapped categories suggested with a confidence score are:\n",
      "\n",
      "```\n",
      "{\n",
      "  \"categories\": [\n",
      "    {\n",
      "      \"category\": \"Teacher\",\n",
      "      \"confidence\": 0.8\n",
      "    },\n",
      "    {\n",
      "      \"category\": \"Lecturer\",\n",
      "      \"confidence\": 0.1\n",
      "    },\n",
      "    {\n",
      "      \"category\": \"Professor\",\n",
      "      \"confidence\": 0.1\n",
      "    }\n",
      "  ]\n",
      "}\n",
      "```\n",
      "\n",
      "The text \"teaching in a school nearby\" strongly suggests that the person is a teacher, hence the high confidence score. The other categories, Lecturer and Professor, are also related to education, but they typically refer to higher education institutions, so the confidence scores are lower.\n",
      "---------------------\n"
     ]
    }
   ],
   "source": [
    "for i in example_list:\n",
    "    print(i)\n",
    "    print(get_mapped_fields_openai_model(predefined_categories, i))\n",
    "    print(\"---------------------\") "
   ]
  },
  {
   "cell_type": "code",
   "execution_count": null,
   "id": "c4dc9d86-0dd4-46b2-b561-1a823e924b77",
   "metadata": {},
   "outputs": [],
   "source": []
  },
  {
   "cell_type": "code",
   "execution_count": null,
   "id": "fc699ca3-c5fe-4000-b995-ffd2a39ca73a",
   "metadata": {},
   "outputs": [],
   "source": []
  },
  {
   "cell_type": "code",
   "execution_count": 11,
   "id": "f19272b0-ce12-45ea-8ee4-e41cf9614ef5",
   "metadata": {},
   "outputs": [],
   "source": []
  },
  {
   "cell_type": "code",
   "execution_count": null,
   "id": "01cf5727-0ff7-49bf-8fff-3fa90e7efec0",
   "metadata": {},
   "outputs": [],
   "source": []
  },
  {
   "cell_type": "code",
   "execution_count": null,
   "id": "f53d707b-9862-4959-bd85-61ff00a2d859",
   "metadata": {},
   "outputs": [],
   "source": []
  },
  {
   "cell_type": "code",
   "execution_count": null,
   "id": "72195863-ba58-43cf-ab6b-cb32e93c93e9",
   "metadata": {},
   "outputs": [],
   "source": []
  },
  {
   "cell_type": "code",
   "execution_count": null,
   "id": "951b3580-e20a-489f-8125-677b6aefa5ae",
   "metadata": {},
   "outputs": [],
   "source": []
  }
 ],
 "metadata": {
  "kernelspec": {
   "display_name": "Python 3 (ipykernel)",
   "language": "python",
   "name": "python3"
  },
  "language_info": {
   "codemirror_mode": {
    "name": "ipython",
    "version": 3
   },
   "file_extension": ".py",
   "mimetype": "text/x-python",
   "name": "python",
   "nbconvert_exporter": "python",
   "pygments_lexer": "ipython3",
   "version": "3.12.4"
  }
 },
 "nbformat": 4,
 "nbformat_minor": 5
}
